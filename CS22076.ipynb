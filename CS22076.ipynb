{
 "cells": [
  {
   "cell_type": "code",
   "execution_count": 599,
   "id": "80ced8be",
   "metadata": {},
   "outputs": [],
   "source": [
    "import pandas as pd\n",
    "import numpy as np\n",
    "import sklearn as sk\n",
    "import matplotlib.pyplot as plt\n",
    "import seaborn as sns\n",
    "from datetime import datetime\n",
    "from sklearn.model_selection import train_test_split\n",
    "from sklearn.model_selection import StratifiedKFold, GridSearchCV\n",
    "from sklearn.metrics import classification_report, confusion_matrix, accuracy_score\n",
    "from sklearn.preprocessing import StandardScaler, MinMaxScaler, LabelEncoder\n",
    "import ipywidgets as widgets\n",
    "from IPython.display import display, Markdown, HTML"
   ]
  },
  {
   "cell_type": "code",
   "execution_count": 600,
   "id": "c0f0d4f7",
   "metadata": {},
   "outputs": [],
   "source": [
    "def display_grid_search_results(grid, X_test, y_test, label_names):\n",
    "\n",
    "    # Results DataFrame\n",
    "    results_df = pd.DataFrame(grid.cv_results_)\n",
    "    results_df = results_df.sort_values(by='mean_test_score', ascending=False)\n",
    "\n",
    "    # Identify param columns dynamically\n",
    "    param_cols = [col for col in results_df.columns if col.startswith('param_')]\n",
    "\n",
    "    # Display top results\n",
    "    display(Markdown(\"### Grid Search Results\"))\n",
    "    display_cols = param_cols + ['mean_test_score', 'std_test_score']\n",
    "    display(results_df[display_cols].style.hide(axis=\"index\"))\n",
    "\n",
    "    # Only show heatmap if exactly 2 param columns\n",
    "    if len(param_cols) == 2:\n",
    "        pivot_table = results_df.pivot(index=param_cols[0], columns=param_cols[1], values='mean_test_score')\n",
    "        plt.figure(figsize=(5, 4))\n",
    "        sns.heatmap(pivot_table, annot=True, fmt=\".3f\", cmap=\"YlGnBu\")\n",
    "        plt.title(\"Mean Test Accuracy\")\n",
    "        plt.xlabel(param_cols[1])\n",
    "        plt.ylabel(param_cols[0])\n",
    "        plt.tight_layout()\n",
    "        plt.show()\n",
    "\n",
    "    # Best model parameters\n",
    "    best_model_data = grid.best_params_.copy()\n",
    "    best_model_data['mean_test_score'] = f\"{grid.best_score_:.4f}\"\n",
    "    best_model_row_df = pd.DataFrame(best_model_data.items(), columns=['Attribute', 'Value'])\n",
    "\n",
    "    display(Markdown(\"### Best Model Parameters\"))\n",
    "    display(best_model_row_df.style.hide(axis=\"index\"))\n",
    "\n",
    "    # Predictions on test set\n",
    "    y_pred = grid.predict(X_test)\n",
    "\n",
    "    # Classification report\n",
    "    report_dict = classification_report(y_test, y_pred, output_dict=True, target_names=label_names)\n",
    "    report_df = pd.DataFrame(report_dict).transpose().round(3)\n",
    "\n",
    "    display(Markdown(\"### Classification Report\"))\n",
    "    display(report_df)\n",
    "\n",
    "    # Confusion matrix\n",
    "    cm = confusion_matrix(y_test, y_pred)\n",
    "    plt.figure(figsize=(5, 4))\n",
    "    sns.heatmap(cm, annot=True, fmt=\"d\", cmap=\"Blues\", cbar=False,\n",
    "                xticklabels=label_names, yticklabels=label_names,\n",
    "                linewidths=0.5, linecolor='gray', square=True)\n",
    "    plt.title(\"Confusion Matrix\")\n",
    "    plt.xlabel(\"Predicted Label\")\n",
    "    plt.ylabel(\"Actual Label\")\n",
    "    plt.tight_layout()\n",
    "    plt.show()\n",
    "\n",
    "    # Accuracy\n",
    "    acc = accuracy_score(y_test, y_pred)\n",
    "    display(Markdown(f\"### Accuracy on Test Set: `{acc:.4f}`\"))\n"
   ]
  },
  {
   "cell_type": "code",
   "execution_count": 601,
   "id": "6e6252e6",
   "metadata": {},
   "outputs": [],
   "source": [
    "weather_dataset = pd.read_csv('weatherHistory.csv')"
   ]
  },
  {
   "cell_type": "markdown",
   "id": "948cf730",
   "metadata": {},
   "source": [
    "# Data Visualization"
   ]
  },
  {
   "cell_type": "code",
   "execution_count": 602,
   "id": "67ae70b0",
   "metadata": {},
   "outputs": [
    {
     "data": {
      "text/html": [
       "<div>\n",
       "<style scoped>\n",
       "    .dataframe tbody tr th:only-of-type {\n",
       "        vertical-align: middle;\n",
       "    }\n",
       "\n",
       "    .dataframe tbody tr th {\n",
       "        vertical-align: top;\n",
       "    }\n",
       "\n",
       "    .dataframe thead th {\n",
       "        text-align: right;\n",
       "    }\n",
       "</style>\n",
       "<table border=\"1\" class=\"dataframe\">\n",
       "  <thead>\n",
       "    <tr style=\"text-align: right;\">\n",
       "      <th></th>\n",
       "      <th>Formatted Date</th>\n",
       "      <th>Summary</th>\n",
       "      <th>Precip Type</th>\n",
       "      <th>Temperature (C)</th>\n",
       "      <th>Apparent Temperature (C)</th>\n",
       "      <th>Humidity</th>\n",
       "      <th>Wind Speed (km/h)</th>\n",
       "      <th>Wind Bearing (degrees)</th>\n",
       "      <th>Visibility (km)</th>\n",
       "      <th>Loud Cover</th>\n",
       "      <th>Pressure (millibars)</th>\n",
       "      <th>Daily Summary</th>\n",
       "    </tr>\n",
       "  </thead>\n",
       "  <tbody>\n",
       "    <tr>\n",
       "      <th>0</th>\n",
       "      <td>2006-04-01 00:00:00.000 +0200</td>\n",
       "      <td>Partly Cloudy</td>\n",
       "      <td>rain</td>\n",
       "      <td>9.472222</td>\n",
       "      <td>7.388889</td>\n",
       "      <td>0.89</td>\n",
       "      <td>14.1197</td>\n",
       "      <td>251.0</td>\n",
       "      <td>15.8263</td>\n",
       "      <td>0.0</td>\n",
       "      <td>1015.13</td>\n",
       "      <td>Partly cloudy throughout the day.</td>\n",
       "    </tr>\n",
       "    <tr>\n",
       "      <th>1</th>\n",
       "      <td>2006-04-01 01:00:00.000 +0200</td>\n",
       "      <td>Partly Cloudy</td>\n",
       "      <td>rain</td>\n",
       "      <td>9.355556</td>\n",
       "      <td>7.227778</td>\n",
       "      <td>0.86</td>\n",
       "      <td>14.2646</td>\n",
       "      <td>259.0</td>\n",
       "      <td>15.8263</td>\n",
       "      <td>0.0</td>\n",
       "      <td>1015.63</td>\n",
       "      <td>Partly cloudy throughout the day.</td>\n",
       "    </tr>\n",
       "    <tr>\n",
       "      <th>2</th>\n",
       "      <td>2006-04-01 02:00:00.000 +0200</td>\n",
       "      <td>Mostly Cloudy</td>\n",
       "      <td>rain</td>\n",
       "      <td>9.377778</td>\n",
       "      <td>9.377778</td>\n",
       "      <td>0.89</td>\n",
       "      <td>3.9284</td>\n",
       "      <td>204.0</td>\n",
       "      <td>14.9569</td>\n",
       "      <td>0.0</td>\n",
       "      <td>1015.94</td>\n",
       "      <td>Partly cloudy throughout the day.</td>\n",
       "    </tr>\n",
       "    <tr>\n",
       "      <th>3</th>\n",
       "      <td>2006-04-01 03:00:00.000 +0200</td>\n",
       "      <td>Partly Cloudy</td>\n",
       "      <td>rain</td>\n",
       "      <td>8.288889</td>\n",
       "      <td>5.944444</td>\n",
       "      <td>0.83</td>\n",
       "      <td>14.1036</td>\n",
       "      <td>269.0</td>\n",
       "      <td>15.8263</td>\n",
       "      <td>0.0</td>\n",
       "      <td>1016.41</td>\n",
       "      <td>Partly cloudy throughout the day.</td>\n",
       "    </tr>\n",
       "    <tr>\n",
       "      <th>4</th>\n",
       "      <td>2006-04-01 04:00:00.000 +0200</td>\n",
       "      <td>Mostly Cloudy</td>\n",
       "      <td>rain</td>\n",
       "      <td>8.755556</td>\n",
       "      <td>6.977778</td>\n",
       "      <td>0.83</td>\n",
       "      <td>11.0446</td>\n",
       "      <td>259.0</td>\n",
       "      <td>15.8263</td>\n",
       "      <td>0.0</td>\n",
       "      <td>1016.51</td>\n",
       "      <td>Partly cloudy throughout the day.</td>\n",
       "    </tr>\n",
       "  </tbody>\n",
       "</table>\n",
       "</div>"
      ],
      "text/plain": [
       "                  Formatted Date        Summary Precip Type  Temperature (C)  \\\n",
       "0  2006-04-01 00:00:00.000 +0200  Partly Cloudy        rain         9.472222   \n",
       "1  2006-04-01 01:00:00.000 +0200  Partly Cloudy        rain         9.355556   \n",
       "2  2006-04-01 02:00:00.000 +0200  Mostly Cloudy        rain         9.377778   \n",
       "3  2006-04-01 03:00:00.000 +0200  Partly Cloudy        rain         8.288889   \n",
       "4  2006-04-01 04:00:00.000 +0200  Mostly Cloudy        rain         8.755556   \n",
       "\n",
       "   Apparent Temperature (C)  Humidity  Wind Speed (km/h)  \\\n",
       "0                  7.388889      0.89            14.1197   \n",
       "1                  7.227778      0.86            14.2646   \n",
       "2                  9.377778      0.89             3.9284   \n",
       "3                  5.944444      0.83            14.1036   \n",
       "4                  6.977778      0.83            11.0446   \n",
       "\n",
       "   Wind Bearing (degrees)  Visibility (km)  Loud Cover  Pressure (millibars)  \\\n",
       "0                   251.0          15.8263         0.0               1015.13   \n",
       "1                   259.0          15.8263         0.0               1015.63   \n",
       "2                   204.0          14.9569         0.0               1015.94   \n",
       "3                   269.0          15.8263         0.0               1016.41   \n",
       "4                   259.0          15.8263         0.0               1016.51   \n",
       "\n",
       "                       Daily Summary  \n",
       "0  Partly cloudy throughout the day.  \n",
       "1  Partly cloudy throughout the day.  \n",
       "2  Partly cloudy throughout the day.  \n",
       "3  Partly cloudy throughout the day.  \n",
       "4  Partly cloudy throughout the day.  "
      ]
     },
     "execution_count": 602,
     "metadata": {},
     "output_type": "execute_result"
    }
   ],
   "source": [
    "weather_dataset.head()"
   ]
  },
  {
   "cell_type": "code",
   "execution_count": 603,
   "id": "2c8cdaf6",
   "metadata": {},
   "outputs": [
    {
     "name": "stdout",
     "output_type": "stream",
     "text": [
      "<class 'pandas.core.frame.DataFrame'>\n",
      "RangeIndex: 96453 entries, 0 to 96452\n",
      "Data columns (total 12 columns):\n",
      " #   Column                    Non-Null Count  Dtype  \n",
      "---  ------                    --------------  -----  \n",
      " 0   Formatted Date            96453 non-null  object \n",
      " 1   Summary                   96453 non-null  object \n",
      " 2   Precip Type               95936 non-null  object \n",
      " 3   Temperature (C)           96453 non-null  float64\n",
      " 4   Apparent Temperature (C)  96453 non-null  float64\n",
      " 5   Humidity                  96453 non-null  float64\n",
      " 6   Wind Speed (km/h)         96453 non-null  float64\n",
      " 7   Wind Bearing (degrees)    96453 non-null  float64\n",
      " 8   Visibility (km)           96453 non-null  float64\n",
      " 9   Loud Cover                96453 non-null  float64\n",
      " 10  Pressure (millibars)      96453 non-null  float64\n",
      " 11  Daily Summary             96453 non-null  object \n",
      "dtypes: float64(8), object(4)\n",
      "memory usage: 8.8+ MB\n"
     ]
    }
   ],
   "source": [
    "weather_dataset.info()"
   ]
  },
  {
   "cell_type": "code",
   "execution_count": 604,
   "id": "0c7c1343",
   "metadata": {},
   "outputs": [
    {
     "data": {
      "text/plain": [
       "Precip Type\n",
       "rain    85224\n",
       "snow    10712\n",
       "Name: count, dtype: int64"
      ]
     },
     "execution_count": 604,
     "metadata": {},
     "output_type": "execute_result"
    }
   ],
   "source": [
    "weather_dataset[\"Precip Type\"].value_counts()"
   ]
  },
  {
   "cell_type": "code",
   "execution_count": 605,
   "id": "58a9d5c9",
   "metadata": {},
   "outputs": [
    {
     "data": {
      "text/plain": [
       "Summary\n",
       "Partly Cloudy                          31733\n",
       "Mostly Cloudy                          28094\n",
       "Overcast                               16597\n",
       "Clear                                  10890\n",
       "Foggy                                   7148\n",
       "Breezy and Overcast                      528\n",
       "Breezy and Mostly Cloudy                 516\n",
       "Breezy and Partly Cloudy                 386\n",
       "Dry and Partly Cloudy                     86\n",
       "Windy and Partly Cloudy                   67\n",
       "Light Rain                                63\n",
       "Breezy                                    54\n",
       "Windy and Overcast                        45\n",
       "Humid and Mostly Cloudy                   40\n",
       "Drizzle                                   39\n",
       "Breezy and Foggy                          35\n",
       "Windy and Mostly Cloudy                   35\n",
       "Dry                                       34\n",
       "Humid and Partly Cloudy                   17\n",
       "Dry and Mostly Cloudy                     14\n",
       "Rain                                      10\n",
       "Windy                                      8\n",
       "Humid and Overcast                         7\n",
       "Windy and Foggy                            4\n",
       "Windy and Dry                              1\n",
       "Dangerously Windy and Partly Cloudy        1\n",
       "Breezy and Dry                             1\n",
       "Name: count, dtype: int64"
      ]
     },
     "execution_count": 605,
     "metadata": {},
     "output_type": "execute_result"
    }
   ],
   "source": [
    "weather_dataset[\"Summary\"].value_counts()"
   ]
  },
  {
   "cell_type": "code",
   "execution_count": 606,
   "id": "b8f57d67",
   "metadata": {},
   "outputs": [
    {
     "data": {
      "text/plain": [
       "count    96453.000000\n",
       "mean        11.932678\n",
       "std          9.551546\n",
       "min        -21.822222\n",
       "25%          4.688889\n",
       "50%         12.000000\n",
       "75%         18.838889\n",
       "max         39.905556\n",
       "Name: Temperature (C), dtype: float64"
      ]
     },
     "execution_count": 606,
     "metadata": {},
     "output_type": "execute_result"
    }
   ],
   "source": [
    "weather_dataset[\"Temperature (C)\"].describe()"
   ]
  },
  {
   "cell_type": "code",
   "execution_count": 607,
   "id": "b988ad35",
   "metadata": {},
   "outputs": [
    {
     "data": {
      "image/png": "[encoded data removed]",
      "text/plain": [
       "<Figure size 2000x1500 with 9 Axes>"
      ]
     },
     "metadata": {},
     "output_type": "display_data"
    }
   ],
   "source": [
    "%matplotlib inline\n",
    "import matplotlib.pyplot as plt\n",
    "weather_dataset.hist(bins=50, figsize=(20,15))\n",
    "plt.show()"
   ]
  },
  {
   "cell_type": "code",
   "execution_count": 608,
   "id": "c4fb8194",
   "metadata": {},
   "outputs": [
    {
     "data": {
      "text/plain": [
       "count    96453.000000\n",
       "mean      1003.235956\n",
       "std        116.969906\n",
       "min          0.000000\n",
       "25%       1011.900000\n",
       "50%       1016.450000\n",
       "75%       1021.090000\n",
       "max       1046.380000\n",
       "Name: Pressure (millibars), dtype: float64"
      ]
     },
     "execution_count": 608,
     "metadata": {},
     "output_type": "execute_result"
    }
   ],
   "source": [
    "weather_dataset[\"Pressure (millibars)\"].describe()"
   ]
  },
  {
   "cell_type": "code",
   "execution_count": 609,
   "id": "078d11ad",
   "metadata": {},
   "outputs": [],
   "source": [
    "# Replace 0 with NaN or drop the rows\n",
    "weather_dataset['Pressure (millibars)'] = weather_dataset['Pressure (millibars)'].replace(0, np.nan)\n",
    "\n",
    "# Then drop NaNs\n",
    "weather_dataset = weather_dataset.dropna(subset=['Pressure (millibars)'])\n"
   ]
  },
  {
   "cell_type": "markdown",
   "id": "b1b0fc47",
   "metadata": {},
   "source": [
    "# Data Preprocessing"
   ]
  },
  {
   "cell_type": "markdown",
   "id": "c976c7d4",
   "metadata": {},
   "source": [
    "Data Cleaning"
   ]
  },
  {
   "cell_type": "code",
   "execution_count": 610,
   "id": "db3c8603",
   "metadata": {},
   "outputs": [],
   "source": [
    "top_classes = ['Overcast', 'Clear', 'Foggy']\n",
    "weather_dataset = weather_dataset[weather_dataset['Summary'].isin(top_classes)]"
   ]
  },
  {
   "cell_type": "code",
   "execution_count": 611,
   "id": "3b2a97a2",
   "metadata": {},
   "outputs": [],
   "source": [
    "weather_dataset[\"Formatted Date\"] = pd.to_datetime(weather_dataset[\"Formatted Date\"], utc=True)\n",
    "weather_dataset[\"Day\"] = weather_dataset[\"Formatted Date\"].dt.day\n",
    "weather_dataset[\"Month\"] = weather_dataset[\"Formatted Date\"].dt.month\n",
    "weather_dataset = weather_dataset.drop([\"Daily Summary\", \"Loud Cover\", \"Formatted Date\"], axis=1)"
   ]
  },
  {
   "cell_type": "code",
   "execution_count": 612,
   "id": "4e3ba735",
   "metadata": {},
   "outputs": [
    {
     "name": "stdout",
     "output_type": "stream",
     "text": [
      "<class 'pandas.core.frame.DataFrame'>\n",
      "Index: 33654 entries, 46 to 96436\n",
      "Data columns (total 11 columns):\n",
      " #   Column                    Non-Null Count  Dtype  \n",
      "---  ------                    --------------  -----  \n",
      " 0   Summary                   33654 non-null  object \n",
      " 1   Precip Type               33415 non-null  object \n",
      " 2   Temperature (C)           33654 non-null  float64\n",
      " 3   Apparent Temperature (C)  33654 non-null  float64\n",
      " 4   Humidity                  33654 non-null  float64\n",
      " 5   Wind Speed (km/h)         33654 non-null  float64\n",
      " 6   Wind Bearing (degrees)    33654 non-null  float64\n",
      " 7   Visibility (km)           33654 non-null  float64\n",
      " 8   Pressure (millibars)      33654 non-null  float64\n",
      " 9   Day                       33654 non-null  int32  \n",
      " 10  Month                     33654 non-null  int32  \n",
      "dtypes: float64(7), int32(2), object(2)\n",
      "memory usage: 2.8+ MB\n"
     ]
    }
   ],
   "source": [
    "weather_dataset.info()"
   ]
  },
  {
   "cell_type": "markdown",
   "id": "23dc993a",
   "metadata": {},
   "source": [
    "Filling Missing Values"
   ]
  },
  {
   "cell_type": "code",
   "execution_count": 613,
   "id": "1b839cca",
   "metadata": {},
   "outputs": [],
   "source": [
    "# None indicates no precipitation\n",
    "weather_dataset[\"Precip Type\"] = weather_dataset[\"Precip Type\"].fillna(\"None\")\n"
   ]
  },
  {
   "cell_type": "markdown",
   "id": "d21a0207",
   "metadata": {},
   "source": [
    "Encoding"
   ]
  },
  {
   "cell_type": "code",
   "execution_count": 614,
   "id": "032d8946",
   "metadata": {},
   "outputs": [],
   "source": [
    "# Apply one hot encoding to prec type\n",
    "weather_dataset = pd.get_dummies(weather_dataset, columns=[\"Precip Type\"])"
   ]
  },
  {
   "cell_type": "code",
   "execution_count": 615,
   "id": "6bdf6fbf",
   "metadata": {},
   "outputs": [
    {
     "name": "stdout",
     "output_type": "stream",
     "text": [
      "0: Clear\n",
      "1: Foggy\n",
      "2: Overcast\n"
     ]
    }
   ],
   "source": [
    "label_encoder = LabelEncoder()\n",
    "weather_dataset[\"Summary\"] = label_encoder.fit_transform(weather_dataset[\"Summary\"])\n",
    "label_names = label_encoder.classes_\n",
    "\n",
    "for i, label in enumerate(label_names):\n",
    "    print(f\"{i}: {label}\")"
   ]
  },
  {
   "cell_type": "code",
   "execution_count": 616,
   "id": "995b098d",
   "metadata": {},
   "outputs": [
    {
     "data": {
      "text/plain": [
       "Summary\n",
       "2    16442\n",
       "0    10162\n",
       "1     7050\n",
       "Name: count, dtype: int64"
      ]
     },
     "execution_count": 616,
     "metadata": {},
     "output_type": "execute_result"
    }
   ],
   "source": [
    "weather_dataset[\"Summary\"].value_counts()"
   ]
  },
  {
   "cell_type": "markdown",
   "id": "16e225e2",
   "metadata": {},
   "source": [
    "Checking For Multicollinearity"
   ]
  },
  {
   "cell_type": "code",
   "execution_count": 617,
   "id": "ac96cd85",
   "metadata": {},
   "outputs": [
    {
     "data": {
      "text/html": [
       "<style type=\"text/css\">\n",
       "#T_6270d_row0_col0, #T_6270d_row1_col1, #T_6270d_row2_col2, #T_6270d_row3_col3, #T_6270d_row4_col4, #T_6270d_row5_col5, #T_6270d_row6_col6, #T_6270d_row7_col7, #T_6270d_row8_col8, #T_6270d_row9_col9, #T_6270d_row10_col10, #T_6270d_row11_col11, #T_6270d_row12_col12 {\n",
       "  background-color: #b40426;\n",
       "  color: #f1f1f1;\n",
       "}\n",
       "#T_6270d_row0_col1, #T_6270d_row7_col9, #T_6270d_row9_col6, #T_6270d_row10_col7 {\n",
       "  background-color: #97b8ff;\n",
       "  color: #000000;\n",
       "}\n",
       "#T_6270d_row0_col2 {\n",
       "  background-color: #93b5fe;\n",
       "  color: #000000;\n",
       "}\n",
       "#T_6270d_row0_col3 {\n",
       "  background-color: #dbdcde;\n",
       "  color: #000000;\n",
       "}\n",
       "#T_6270d_row0_col4 {\n",
       "  background-color: #d8dce2;\n",
       "  color: #000000;\n",
       "}\n",
       "#T_6270d_row0_col5, #T_6270d_row11_col5 {\n",
       "  background-color: #5572df;\n",
       "  color: #f1f1f1;\n",
       "}\n",
       "#T_6270d_row0_col6 {\n",
       "  background-color: #8caffe;\n",
       "  color: #000000;\n",
       "}\n",
       "#T_6270d_row0_col7 {\n",
       "  background-color: #4f69d9;\n",
       "  color: #f1f1f1;\n",
       "}\n",
       "#T_6270d_row0_col8 {\n",
       "  background-color: #3f53c6;\n",
       "  color: #f1f1f1;\n",
       "}\n",
       "#T_6270d_row0_col9, #T_6270d_row10_col5 {\n",
       "  background-color: #4e68d8;\n",
       "  color: #f1f1f1;\n",
       "}\n",
       "#T_6270d_row0_col10, #T_6270d_row3_col5, #T_6270d_row4_col5 {\n",
       "  background-color: #5b7ae5;\n",
       "  color: #f1f1f1;\n",
       "}\n",
       "#T_6270d_row0_col11, #T_6270d_row0_col12, #T_6270d_row9_col2 {\n",
       "  background-color: #dcdddd;\n",
       "  color: #000000;\n",
       "}\n",
       "#T_6270d_row1_col0, #T_6270d_row8_col5, #T_6270d_row9_col5, #T_6270d_row12_col8 {\n",
       "  background-color: #4b64d5;\n",
       "  color: #f1f1f1;\n",
       "}\n",
       "#T_6270d_row1_col2, #T_6270d_row2_col1 {\n",
       "  background-color: #b50927;\n",
       "  color: #f1f1f1;\n",
       "}\n",
       "#T_6270d_row1_col3, #T_6270d_row1_col7, #T_6270d_row3_col6, #T_6270d_row6_col3, #T_6270d_row6_col8, #T_6270d_row7_col0, #T_6270d_row7_col4, #T_6270d_row7_col5, #T_6270d_row11_col7, #T_6270d_row11_col10, #T_6270d_row11_col12, #T_6270d_row12_col1, #T_6270d_row12_col2, #T_6270d_row12_col9, #T_6270d_row12_col11 {\n",
       "  background-color: #3b4cc0;\n",
       "  color: #f1f1f1;\n",
       "}\n",
       "#T_6270d_row1_col4, #T_6270d_row1_col9 {\n",
       "  background-color: #96b7ff;\n",
       "  color: #000000;\n",
       "}\n",
       "#T_6270d_row1_col5 {\n",
       "  background-color: #536edd;\n",
       "  color: #f1f1f1;\n",
       "}\n",
       "#T_6270d_row1_col6 {\n",
       "  background-color: #f6bfa6;\n",
       "  color: #000000;\n",
       "}\n",
       "#T_6270d_row1_col8 {\n",
       "  background-color: #445acc;\n",
       "  color: #f1f1f1;\n",
       "}\n",
       "#T_6270d_row1_col10, #T_6270d_row2_col10, #T_6270d_row4_col10 {\n",
       "  background-color: #688aef;\n",
       "  color: #f1f1f1;\n",
       "}\n",
       "#T_6270d_row1_col11 {\n",
       "  background-color: #eb7d62;\n",
       "  color: #f1f1f1;\n",
       "}\n",
       "#T_6270d_row1_col12, #T_6270d_row10_col0 {\n",
       "  background-color: #7093f3;\n",
       "  color: #f1f1f1;\n",
       "}\n",
       "#T_6270d_row2_col0 {\n",
       "  background-color: #465ecf;\n",
       "  color: #f1f1f1;\n",
       "}\n",
       "#T_6270d_row2_col3 {\n",
       "  background-color: #4055c8;\n",
       "  color: #f1f1f1;\n",
       "}\n",
       "#T_6270d_row2_col4 {\n",
       "  background-color: #7a9df8;\n",
       "  color: #f1f1f1;\n",
       "}\n",
       "#T_6270d_row2_col5, #T_6270d_row3_col1 {\n",
       "  background-color: #5470de;\n",
       "  color: #f1f1f1;\n",
       "}\n",
       "#T_6270d_row2_col6 {\n",
       "  background-color: #f4c5ad;\n",
       "  color: #000000;\n",
       "}\n",
       "#T_6270d_row2_col7, #T_6270d_row5_col8 {\n",
       "  background-color: #4358cb;\n",
       "  color: #f1f1f1;\n",
       "}\n",
       "#T_6270d_row2_col8, #T_6270d_row12_col5 {\n",
       "  background-color: #455cce;\n",
       "  color: #f1f1f1;\n",
       "}\n",
       "#T_6270d_row2_col9 {\n",
       "  background-color: #9abbff;\n",
       "  color: #000000;\n",
       "}\n",
       "#T_6270d_row2_col11 {\n",
       "  background-color: #ec7f63;\n",
       "  color: #f1f1f1;\n",
       "}\n",
       "#T_6270d_row2_col12 {\n",
       "  background-color: #7295f4;\n",
       "  color: #f1f1f1;\n",
       "}\n",
       "#T_6270d_row3_col0, #T_6270d_row10_col2 {\n",
       "  background-color: #bed2f6;\n",
       "  color: #000000;\n",
       "}\n",
       "#T_6270d_row3_col2 {\n",
       "  background-color: #5977e3;\n",
       "  color: #f1f1f1;\n",
       "}\n",
       "#T_6270d_row3_col4, #T_6270d_row7_col8, #T_6270d_row12_col10 {\n",
       "  background-color: #5a78e4;\n",
       "  color: #f1f1f1;\n",
       "}\n",
       "#T_6270d_row3_col7 {\n",
       "  background-color: #94b6ff;\n",
       "  color: #000000;\n",
       "}\n",
       "#T_6270d_row3_col8 {\n",
       "  background-color: #485fd1;\n",
       "  color: #f1f1f1;\n",
       "}\n",
       "#T_6270d_row3_col9 {\n",
       "  background-color: #799cf8;\n",
       "  color: #f1f1f1;\n",
       "}\n",
       "#T_6270d_row3_col10, #T_6270d_row12_col6 {\n",
       "  background-color: #5f7fe8;\n",
       "  color: #f1f1f1;\n",
       "}\n",
       "#T_6270d_row3_col11 {\n",
       "  background-color: #c1d4f4;\n",
       "  color: #000000;\n",
       "}\n",
       "#T_6270d_row3_col12 {\n",
       "  background-color: #f0cdbb;\n",
       "  color: #000000;\n",
       "}\n",
       "#T_6270d_row4_col0, #T_6270d_row4_col6 {\n",
       "  background-color: #cedaeb;\n",
       "  color: #000000;\n",
       "}\n",
       "#T_6270d_row4_col1, #T_6270d_row10_col11 {\n",
       "  background-color: #c4d5f3;\n",
       "  color: #000000;\n",
       "}\n",
       "#T_6270d_row4_col2 {\n",
       "  background-color: #aec9fc;\n",
       "  color: #000000;\n",
       "}\n",
       "#T_6270d_row4_col3, #T_6270d_row7_col6 {\n",
       "  background-color: #7ea1fa;\n",
       "  color: #f1f1f1;\n",
       "}\n",
       "#T_6270d_row4_col7, #T_6270d_row4_col8 {\n",
       "  background-color: #3c4ec2;\n",
       "  color: #f1f1f1;\n",
       "}\n",
       "#T_6270d_row4_col9 {\n",
       "  background-color: #4257c9;\n",
       "  color: #f1f1f1;\n",
       "}\n",
       "#T_6270d_row4_col11 {\n",
       "  background-color: #e6d7cf;\n",
       "  color: #000000;\n",
       "}\n",
       "#T_6270d_row4_col12 {\n",
       "  background-color: #cfdaea;\n",
       "  color: #000000;\n",
       "}\n",
       "#T_6270d_row5_col0 {\n",
       "  background-color: #82a6fb;\n",
       "  color: #f1f1f1;\n",
       "}\n",
       "#T_6270d_row5_col1, #T_6270d_row5_col2 {\n",
       "  background-color: #c0d4f5;\n",
       "  color: #000000;\n",
       "}\n",
       "#T_6270d_row5_col3 {\n",
       "  background-color: #b6cefa;\n",
       "  color: #000000;\n",
       "}\n",
       "#T_6270d_row5_col4 {\n",
       "  background-color: #98b9ff;\n",
       "  color: #000000;\n",
       "}\n",
       "#T_6270d_row5_col6 {\n",
       "  background-color: #b2ccfb;\n",
       "  color: #000000;\n",
       "}\n",
       "#T_6270d_row5_col7, #T_6270d_row7_col2, #T_6270d_row11_col0, #T_6270d_row12_col0 {\n",
       "  background-color: #7da0f9;\n",
       "  color: #f1f1f1;\n",
       "}\n",
       "#T_6270d_row5_col9 {\n",
       "  background-color: #6282ea;\n",
       "  color: #f1f1f1;\n",
       "}\n",
       "#T_6270d_row5_col10 {\n",
       "  background-color: #6788ee;\n",
       "  color: #f1f1f1;\n",
       "}\n",
       "#T_6270d_row5_col11 {\n",
       "  background-color: #dfdbd9;\n",
       "  color: #000000;\n",
       "}\n",
       "#T_6270d_row5_col12, #T_6270d_row8_col11 {\n",
       "  background-color: #d7dce3;\n",
       "  color: #000000;\n",
       "}\n",
       "#T_6270d_row6_col0, #T_6270d_row6_col5, #T_6270d_row6_col10, #T_6270d_row10_col8 {\n",
       "  background-color: #5875e1;\n",
       "  color: #f1f1f1;\n",
       "}\n",
       "#T_6270d_row6_col1 {\n",
       "  background-color: #f7b79b;\n",
       "  color: #000000;\n",
       "}\n",
       "#T_6270d_row6_col2 {\n",
       "  background-color: #f7bca1;\n",
       "  color: #000000;\n",
       "}\n",
       "#T_6270d_row6_col4, #T_6270d_row9_col7 {\n",
       "  background-color: #b9d0f9;\n",
       "  color: #000000;\n",
       "}\n",
       "#T_6270d_row6_col7 {\n",
       "  background-color: #5e7de7;\n",
       "  color: #f1f1f1;\n",
       "}\n",
       "#T_6270d_row6_col9 {\n",
       "  background-color: #4c66d6;\n",
       "  color: #f1f1f1;\n",
       "}\n",
       "#T_6270d_row6_col11 {\n",
       "  background-color: #f7b99e;\n",
       "  color: #000000;\n",
       "}\n",
       "#T_6270d_row6_col12 {\n",
       "  background-color: #a9c6fd;\n",
       "  color: #000000;\n",
       "}\n",
       "#T_6270d_row7_col1, #T_6270d_row8_col9, #T_6270d_row10_col9, #T_6270d_row12_col4 {\n",
       "  background-color: #7597f6;\n",
       "  color: #f1f1f1;\n",
       "}\n",
       "#T_6270d_row7_col3 {\n",
       "  background-color: #afcafc;\n",
       "  color: #000000;\n",
       "}\n",
       "#T_6270d_row7_col10 {\n",
       "  background-color: #6f92f3;\n",
       "  color: #f1f1f1;\n",
       "}\n",
       "#T_6270d_row7_col11 {\n",
       "  background-color: #a6c4fe;\n",
       "  color: #000000;\n",
       "}\n",
       "#T_6270d_row7_col12 {\n",
       "  background-color: #f7b89c;\n",
       "  color: #000000;\n",
       "}\n",
       "#T_6270d_row8_col0 {\n",
       "  background-color: #7699f6;\n",
       "  color: #f1f1f1;\n",
       "}\n",
       "#T_6270d_row8_col1, #T_6270d_row8_col2 {\n",
       "  background-color: #bcd2f7;\n",
       "  color: #000000;\n",
       "}\n",
       "#T_6270d_row8_col3 {\n",
       "  background-color: #abc8fd;\n",
       "  color: #000000;\n",
       "}\n",
       "#T_6270d_row8_col4 {\n",
       "  background-color: #84a7fc;\n",
       "  color: #f1f1f1;\n",
       "}\n",
       "#T_6270d_row8_col6, #T_6270d_row8_col7 {\n",
       "  background-color: #a1c0ff;\n",
       "  color: #000000;\n",
       "}\n",
       "#T_6270d_row8_col10, #T_6270d_row9_col10 {\n",
       "  background-color: #779af7;\n",
       "  color: #f1f1f1;\n",
       "}\n",
       "#T_6270d_row8_col12 {\n",
       "  background-color: #dddcdc;\n",
       "  color: #000000;\n",
       "}\n",
       "#T_6270d_row9_col0 {\n",
       "  background-color: #6485ec;\n",
       "  color: #f1f1f1;\n",
       "}\n",
       "#T_6270d_row9_col1 {\n",
       "  background-color: #dadce0;\n",
       "  color: #000000;\n",
       "}\n",
       "#T_6270d_row9_col3 {\n",
       "  background-color: #bad0f8;\n",
       "  color: #000000;\n",
       "}\n",
       "#T_6270d_row9_col4 {\n",
       "  background-color: #6b8df0;\n",
       "  color: #f1f1f1;\n",
       "}\n",
       "#T_6270d_row9_col8 {\n",
       "  background-color: #5673e0;\n",
       "  color: #f1f1f1;\n",
       "}\n",
       "#T_6270d_row9_col11 {\n",
       "  background-color: #ecd3c5;\n",
       "  color: #000000;\n",
       "}\n",
       "#T_6270d_row9_col12 {\n",
       "  background-color: #c5d6f2;\n",
       "  color: #000000;\n",
       "}\n",
       "#T_6270d_row10_col1 {\n",
       "  background-color: #bfd3f6;\n",
       "  color: #000000;\n",
       "}\n",
       "#T_6270d_row10_col3 {\n",
       "  background-color: #a5c3fe;\n",
       "  color: #000000;\n",
       "}\n",
       "#T_6270d_row10_col4 {\n",
       "  background-color: #8db0fe;\n",
       "  color: #000000;\n",
       "}\n",
       "#T_6270d_row10_col6 {\n",
       "  background-color: #9ebeff;\n",
       "  color: #000000;\n",
       "}\n",
       "#T_6270d_row10_col12 {\n",
       "  background-color: #d6dce4;\n",
       "  color: #000000;\n",
       "}\n",
       "#T_6270d_row11_col1 {\n",
       "  background-color: #f18f71;\n",
       "  color: #f1f1f1;\n",
       "}\n",
       "#T_6270d_row11_col2 {\n",
       "  background-color: #f29072;\n",
       "  color: #f1f1f1;\n",
       "}\n",
       "#T_6270d_row11_col3 {\n",
       "  background-color: #81a4fb;\n",
       "  color: #f1f1f1;\n",
       "}\n",
       "#T_6270d_row11_col4 {\n",
       "  background-color: #a3c2fe;\n",
       "  color: #000000;\n",
       "}\n",
       "#T_6270d_row11_col6 {\n",
       "  background-color: #ead5c9;\n",
       "  color: #000000;\n",
       "}\n",
       "#T_6270d_row11_col8 {\n",
       "  background-color: #3d50c3;\n",
       "  color: #f1f1f1;\n",
       "}\n",
       "#T_6270d_row11_col9 {\n",
       "  background-color: #8fb1fe;\n",
       "  color: #000000;\n",
       "}\n",
       "#T_6270d_row12_col3 {\n",
       "  background-color: #d2dbe8;\n",
       "  color: #000000;\n",
       "}\n",
       "#T_6270d_row12_col7 {\n",
       "  background-color: #dedcdb;\n",
       "  color: #000000;\n",
       "}\n",
       "</style>\n",
       "<table id=\"T_6270d\">\n",
       "  <thead>\n",
       "    <tr>\n",
       "      <th class=\"blank level0\" >&nbsp;</th>\n",
       "      <th id=\"T_6270d_level0_col0\" class=\"col_heading level0 col0\" >Summary</th>\n",
       "      <th id=\"T_6270d_level0_col1\" class=\"col_heading level0 col1\" >Temperature (C)</th>\n",
       "      <th id=\"T_6270d_level0_col2\" class=\"col_heading level0 col2\" >Apparent Temperature (C)</th>\n",
       "      <th id=\"T_6270d_level0_col3\" class=\"col_heading level0 col3\" >Humidity</th>\n",
       "      <th id=\"T_6270d_level0_col4\" class=\"col_heading level0 col4\" >Wind Speed (km/h)</th>\n",
       "      <th id=\"T_6270d_level0_col5\" class=\"col_heading level0 col5\" >Wind Bearing (degrees)</th>\n",
       "      <th id=\"T_6270d_level0_col6\" class=\"col_heading level0 col6\" >Visibility (km)</th>\n",
       "      <th id=\"T_6270d_level0_col7\" class=\"col_heading level0 col7\" >Pressure (millibars)</th>\n",
       "      <th id=\"T_6270d_level0_col8\" class=\"col_heading level0 col8\" >Day</th>\n",
       "      <th id=\"T_6270d_level0_col9\" class=\"col_heading level0 col9\" >Month</th>\n",
       "      <th id=\"T_6270d_level0_col10\" class=\"col_heading level0 col10\" >Precip Type_None</th>\n",
       "      <th id=\"T_6270d_level0_col11\" class=\"col_heading level0 col11\" >Precip Type_rain</th>\n",
       "      <th id=\"T_6270d_level0_col12\" class=\"col_heading level0 col12\" >Precip Type_snow</th>\n",
       "    </tr>\n",
       "  </thead>\n",
       "  <tbody>\n",
       "    <tr>\n",
       "      <th id=\"T_6270d_level0_row0\" class=\"row_heading level0 row0\" >Summary</th>\n",
       "      <td id=\"T_6270d_row0_col0\" class=\"data row0 col0\" >1.000000</td>\n",
       "      <td id=\"T_6270d_row0_col1\" class=\"data row0 col1\" >-0.181860</td>\n",
       "      <td id=\"T_6270d_row0_col2\" class=\"data row0 col2\" >-0.198901</td>\n",
       "      <td id=\"T_6270d_row0_col3\" class=\"data row0 col3\" >0.240737</td>\n",
       "      <td id=\"T_6270d_row0_col4\" class=\"data row0 col4\" >0.308217</td>\n",
       "      <td id=\"T_6270d_row0_col5\" class=\"data row0 col5\" >0.027025</td>\n",
       "      <td id=\"T_6270d_row0_col6\" class=\"data row0 col6\" >-0.130770</td>\n",
       "      <td id=\"T_6270d_row0_col7\" class=\"data row0 col7\" >-0.251110</td>\n",
       "      <td id=\"T_6270d_row0_col8\" class=\"data row0 col8\" >-0.020515</td>\n",
       "      <td id=\"T_6270d_row0_col9\" class=\"data row0 col9\" >-0.080894</td>\n",
       "      <td id=\"T_6270d_row0_col10\" class=\"data row0 col10\" >-0.036879</td>\n",
       "      <td id=\"T_6270d_row0_col11\" class=\"data row0 col11\" >0.004035</td>\n",
       "      <td id=\"T_6270d_row0_col12\" class=\"data row0 col12\" >0.003618</td>\n",
       "    </tr>\n",
       "    <tr>\n",
       "      <th id=\"T_6270d_level0_row1\" class=\"row_heading level0 row1\" >Temperature (C)</th>\n",
       "      <td id=\"T_6270d_row1_col0\" class=\"data row1 col0\" >-0.181860</td>\n",
       "      <td id=\"T_6270d_row1_col1\" class=\"data row1 col1\" >1.000000</td>\n",
       "      <td id=\"T_6270d_row1_col2\" class=\"data row1 col2\" >0.988533</td>\n",
       "      <td id=\"T_6270d_row1_col3\" class=\"data row1 col3\" >-0.503649</td>\n",
       "      <td id=\"T_6270d_row1_col4\" class=\"data row1 col4\" >0.033853</td>\n",
       "      <td id=\"T_6270d_row1_col5\" class=\"data row1 col5\" >0.017120</td>\n",
       "      <td id=\"T_6270d_row1_col6\" class=\"data row1 col6\" >0.460036</td>\n",
       "      <td id=\"T_6270d_row1_col7\" class=\"data row1 col7\" >-0.341952</td>\n",
       "      <td id=\"T_6270d_row1_col8\" class=\"data row1 col8\" >-0.004790</td>\n",
       "      <td id=\"T_6270d_row1_col9\" class=\"data row1 col9\" >0.161644</td>\n",
       "      <td id=\"T_6270d_row1_col10\" class=\"data row1 col10\" >0.007632</td>\n",
       "      <td id=\"T_6270d_row1_col11\" class=\"data row1 col11\" >0.633115</td>\n",
       "      <td id=\"T_6270d_row1_col12\" class=\"data row1 col12\" >-0.642834</td>\n",
       "    </tr>\n",
       "    <tr>\n",
       "      <th id=\"T_6270d_level0_row2\" class=\"row_heading level0 row2\" >Apparent Temperature (C)</th>\n",
       "      <td id=\"T_6270d_row2_col0\" class=\"data row2 col0\" >-0.198901</td>\n",
       "      <td id=\"T_6270d_row2_col1\" class=\"data row2 col1\" >0.988533</td>\n",
       "      <td id=\"T_6270d_row2_col2\" class=\"data row2 col2\" >1.000000</td>\n",
       "      <td id=\"T_6270d_row2_col3\" class=\"data row2 col3\" >-0.470546</td>\n",
       "      <td id=\"T_6270d_row2_col4\" class=\"data row2 col4\" >-0.070909</td>\n",
       "      <td id=\"T_6270d_row2_col5\" class=\"data row2 col5\" >0.020224</td>\n",
       "      <td id=\"T_6270d_row2_col6\" class=\"data row2 col6\" >0.434700</td>\n",
       "      <td id=\"T_6270d_row2_col7\" class=\"data row2 col7\" >-0.300970</td>\n",
       "      <td id=\"T_6270d_row2_col8\" class=\"data row2 col8\" >-0.000084</td>\n",
       "      <td id=\"T_6270d_row2_col9\" class=\"data row2 col9\" >0.178542</td>\n",
       "      <td id=\"T_6270d_row2_col10\" class=\"data row2 col10\" >0.008424</td>\n",
       "      <td id=\"T_6270d_row2_col11\" class=\"data row2 col11\" >0.624933</td>\n",
       "      <td id=\"T_6270d_row2_col12\" class=\"data row2 col12\" >-0.634713</td>\n",
       "    </tr>\n",
       "    <tr>\n",
       "      <th id=\"T_6270d_level0_row3\" class=\"row_heading level0 row3\" >Humidity</th>\n",
       "      <td id=\"T_6270d_row3_col0\" class=\"data row3 col0\" >0.240737</td>\n",
       "      <td id=\"T_6270d_row3_col1\" class=\"data row3 col1\" >-0.503649</td>\n",
       "      <td id=\"T_6270d_row3_col2\" class=\"data row3 col2\" >-0.470546</td>\n",
       "      <td id=\"T_6270d_row3_col3\" class=\"data row3 col3\" >1.000000</td>\n",
       "      <td id=\"T_6270d_row3_col4\" class=\"data row3 col4\" >-0.191818</td>\n",
       "      <td id=\"T_6270d_row3_col5\" class=\"data row3 col5\" >0.049006</td>\n",
       "      <td id=\"T_6270d_row3_col6\" class=\"data row3 col6\" >-0.502739</td>\n",
       "      <td id=\"T_6270d_row3_col7\" class=\"data row3 col7\" >0.020052</td>\n",
       "      <td id=\"T_6270d_row3_col8\" class=\"data row3 col8\" >0.006160</td>\n",
       "      <td id=\"T_6270d_row3_col9\" class=\"data row3 col9\" >0.067534</td>\n",
       "      <td id=\"T_6270d_row3_col10\" class=\"data row3 col10\" >-0.023370</td>\n",
       "      <td id=\"T_6270d_row3_col11\" class=\"data row3 col11\" >-0.179775</td>\n",
       "      <td id=\"T_6270d_row3_col12\" class=\"data row3 col12\" >0.186964</td>\n",
       "    </tr>\n",
       "    <tr>\n",
       "      <th id=\"T_6270d_level0_row4\" class=\"row_heading level0 row4\" >Wind Speed (km/h)</th>\n",
       "      <td id=\"T_6270d_row4_col0\" class=\"data row4 col0\" >0.308217</td>\n",
       "      <td id=\"T_6270d_row4_col1\" class=\"data row4 col1\" >0.033853</td>\n",
       "      <td id=\"T_6270d_row4_col2\" class=\"data row4 col2\" >-0.070909</td>\n",
       "      <td id=\"T_6270d_row4_col3\" class=\"data row4 col3\" >-0.191818</td>\n",
       "      <td id=\"T_6270d_row4_col4\" class=\"data row4 col4\" >1.000000</td>\n",
       "      <td id=\"T_6270d_row4_col5\" class=\"data row4 col5\" >0.046999</td>\n",
       "      <td id=\"T_6270d_row4_col6\" class=\"data row4 col6\" >0.170379</td>\n",
       "      <td id=\"T_6270d_row4_col7\" class=\"data row4 col7\" >-0.331591</td>\n",
       "      <td id=\"T_6270d_row4_col8\" class=\"data row4 col8\" >-0.033302</td>\n",
       "      <td id=\"T_6270d_row4_col9\" class=\"data row4 col9\" >-0.127397</td>\n",
       "      <td id=\"T_6270d_row4_col10\" class=\"data row4 col10\" >0.005211</td>\n",
       "      <td id=\"T_6270d_row4_col11\" class=\"data row4 col11\" >0.085604</td>\n",
       "      <td id=\"T_6270d_row4_col12\" class=\"data row4 col12\" >-0.087791</td>\n",
       "    </tr>\n",
       "    <tr>\n",
       "      <th id=\"T_6270d_level0_row5\" class=\"row_heading level0 row5\" >Wind Bearing (degrees)</th>\n",
       "      <td id=\"T_6270d_row5_col0\" class=\"data row5 col0\" >0.027025</td>\n",
       "      <td id=\"T_6270d_row5_col1\" class=\"data row5 col1\" >0.017120</td>\n",
       "      <td id=\"T_6270d_row5_col2\" class=\"data row5 col2\" >0.020224</td>\n",
       "      <td id=\"T_6270d_row5_col3\" class=\"data row5 col3\" >0.049006</td>\n",
       "      <td id=\"T_6270d_row5_col4\" class=\"data row5 col4\" >0.046999</td>\n",
       "      <td id=\"T_6270d_row5_col5\" class=\"data row5 col5\" >1.000000</td>\n",
       "      <td id=\"T_6270d_row5_col6\" class=\"data row5 col6\" >0.033909</td>\n",
       "      <td id=\"T_6270d_row5_col7\" class=\"data row5 col7\" >-0.067472</td>\n",
       "      <td id=\"T_6270d_row5_col8\" class=\"data row5 col8\" >-0.008332</td>\n",
       "      <td id=\"T_6270d_row5_col9\" class=\"data row5 col9\" >-0.005810</td>\n",
       "      <td id=\"T_6270d_row5_col10\" class=\"data row5 col10\" >0.001762</td>\n",
       "      <td id=\"T_6270d_row5_col11\" class=\"data row5 col11\" >0.027808</td>\n",
       "      <td id=\"T_6270d_row5_col12\" class=\"data row5 col12\" >-0.028533</td>\n",
       "    </tr>\n",
       "    <tr>\n",
       "      <th id=\"T_6270d_level0_row6\" class=\"row_heading level0 row6\" >Visibility (km)</th>\n",
       "      <td id=\"T_6270d_row6_col0\" class=\"data row6 col0\" >-0.130770</td>\n",
       "      <td id=\"T_6270d_row6_col1\" class=\"data row6 col1\" >0.460036</td>\n",
       "      <td id=\"T_6270d_row6_col2\" class=\"data row6 col2\" >0.434700</td>\n",
       "      <td id=\"T_6270d_row6_col3\" class=\"data row6 col3\" >-0.502739</td>\n",
       "      <td id=\"T_6270d_row6_col4\" class=\"data row6 col4\" >0.170379</td>\n",
       "      <td id=\"T_6270d_row6_col5\" class=\"data row6 col5\" >0.033909</td>\n",
       "      <td id=\"T_6270d_row6_col6\" class=\"data row6 col6\" >1.000000</td>\n",
       "      <td id=\"T_6270d_row6_col7\" class=\"data row6 col7\" >-0.188414</td>\n",
       "      <td id=\"T_6270d_row6_col8\" class=\"data row6 col8\" >-0.040312</td>\n",
       "      <td id=\"T_6270d_row6_col9\" class=\"data row6 col9\" >-0.083146</td>\n",
       "      <td id=\"T_6270d_row6_col10\" class=\"data row6 col10\" >-0.052623</td>\n",
       "      <td id=\"T_6270d_row6_col11\" class=\"data row6 col11\" >0.329072</td>\n",
       "      <td id=\"T_6270d_row6_col12\" class=\"data row6 col12\" >-0.322302</td>\n",
       "    </tr>\n",
       "    <tr>\n",
       "      <th id=\"T_6270d_level0_row7\" class=\"row_heading level0 row7\" >Pressure (millibars)</th>\n",
       "      <td id=\"T_6270d_row7_col0\" class=\"data row7 col0\" >-0.251110</td>\n",
       "      <td id=\"T_6270d_row7_col1\" class=\"data row7 col1\" >-0.341952</td>\n",
       "      <td id=\"T_6270d_row7_col2\" class=\"data row7 col2\" >-0.300970</td>\n",
       "      <td id=\"T_6270d_row7_col3\" class=\"data row7 col3\" >0.020052</td>\n",
       "      <td id=\"T_6270d_row7_col4\" class=\"data row7 col4\" >-0.331591</td>\n",
       "      <td id=\"T_6270d_row7_col5\" class=\"data row7 col5\" >-0.067472</td>\n",
       "      <td id=\"T_6270d_row7_col6\" class=\"data row7 col6\" >-0.188414</td>\n",
       "      <td id=\"T_6270d_row7_col7\" class=\"data row7 col7\" >1.000000</td>\n",
       "      <td id=\"T_6270d_row7_col8\" class=\"data row7 col8\" >0.068353</td>\n",
       "      <td id=\"T_6270d_row7_col9\" class=\"data row7 col9\" >0.166008</td>\n",
       "      <td id=\"T_6270d_row7_col10\" class=\"data row7 col10\" >0.030469</td>\n",
       "      <td id=\"T_6270d_row7_col11\" class=\"data row7 col11\" >-0.339731</td>\n",
       "      <td id=\"T_6270d_row7_col12\" class=\"data row7 col12\" >0.337726</td>\n",
       "    </tr>\n",
       "    <tr>\n",
       "      <th id=\"T_6270d_level0_row8\" class=\"row_heading level0 row8\" >Day</th>\n",
       "      <td id=\"T_6270d_row8_col0\" class=\"data row8 col0\" >-0.020515</td>\n",
       "      <td id=\"T_6270d_row8_col1\" class=\"data row8 col1\" >-0.004790</td>\n",
       "      <td id=\"T_6270d_row8_col2\" class=\"data row8 col2\" >-0.000084</td>\n",
       "      <td id=\"T_6270d_row8_col3\" class=\"data row8 col3\" >0.006160</td>\n",
       "      <td id=\"T_6270d_row8_col4\" class=\"data row8 col4\" >-0.033302</td>\n",
       "      <td id=\"T_6270d_row8_col5\" class=\"data row8 col5\" >-0.008332</td>\n",
       "      <td id=\"T_6270d_row8_col6\" class=\"data row8 col6\" >-0.040312</td>\n",
       "      <td id=\"T_6270d_row8_col7\" class=\"data row8 col7\" >0.068353</td>\n",
       "      <td id=\"T_6270d_row8_col8\" class=\"data row8 col8\" >1.000000</td>\n",
       "      <td id=\"T_6270d_row8_col9\" class=\"data row8 col9\" >0.055413</td>\n",
       "      <td id=\"T_6270d_row8_col10\" class=\"data row8 col10\" >0.057914</td>\n",
       "      <td id=\"T_6270d_row8_col11\" class=\"data row8 col11\" >-0.029784</td>\n",
       "      <td id=\"T_6270d_row8_col12\" class=\"data row8 col12\" >0.018067</td>\n",
       "    </tr>\n",
       "    <tr>\n",
       "      <th id=\"T_6270d_level0_row9\" class=\"row_heading level0 row9\" >Month</th>\n",
       "      <td id=\"T_6270d_row9_col0\" class=\"data row9 col0\" >-0.080894</td>\n",
       "      <td id=\"T_6270d_row9_col1\" class=\"data row9 col1\" >0.161644</td>\n",
       "      <td id=\"T_6270d_row9_col2\" class=\"data row9 col2\" >0.178542</td>\n",
       "      <td id=\"T_6270d_row9_col3\" class=\"data row9 col3\" >0.067534</td>\n",
       "      <td id=\"T_6270d_row9_col4\" class=\"data row9 col4\" >-0.127397</td>\n",
       "      <td id=\"T_6270d_row9_col5\" class=\"data row9 col5\" >-0.005810</td>\n",
       "      <td id=\"T_6270d_row9_col6\" class=\"data row9 col6\" >-0.083146</td>\n",
       "      <td id=\"T_6270d_row9_col7\" class=\"data row9 col7\" >0.166008</td>\n",
       "      <td id=\"T_6270d_row9_col8\" class=\"data row9 col8\" >0.055413</td>\n",
       "      <td id=\"T_6270d_row9_col9\" class=\"data row9 col9\" >1.000000</td>\n",
       "      <td id=\"T_6270d_row9_col10\" class=\"data row9 col10\" >0.057469</td>\n",
       "      <td id=\"T_6270d_row9_col11\" class=\"data row9 col11\" >0.140664</td>\n",
       "      <td id=\"T_6270d_row9_col12\" class=\"data row9 col12\" >-0.154475</td>\n",
       "    </tr>\n",
       "    <tr>\n",
       "      <th id=\"T_6270d_level0_row10\" class=\"row_heading level0 row10\" >Precip Type_None</th>\n",
       "      <td id=\"T_6270d_row10_col0\" class=\"data row10 col0\" >-0.036879</td>\n",
       "      <td id=\"T_6270d_row10_col1\" class=\"data row10 col1\" >0.007632</td>\n",
       "      <td id=\"T_6270d_row10_col2\" class=\"data row10 col2\" >0.008424</td>\n",
       "      <td id=\"T_6270d_row10_col3\" class=\"data row10 col3\" >-0.023370</td>\n",
       "      <td id=\"T_6270d_row10_col4\" class=\"data row10 col4\" >0.005211</td>\n",
       "      <td id=\"T_6270d_row10_col5\" class=\"data row10 col5\" >0.001762</td>\n",
       "      <td id=\"T_6270d_row10_col6\" class=\"data row10 col6\" >-0.052623</td>\n",
       "      <td id=\"T_6270d_row10_col7\" class=\"data row10 col7\" >0.030469</td>\n",
       "      <td id=\"T_6270d_row10_col8\" class=\"data row10 col8\" >0.057914</td>\n",
       "      <td id=\"T_6270d_row10_col9\" class=\"data row10 col9\" >0.057469</td>\n",
       "      <td id=\"T_6270d_row10_col10\" class=\"data row10 col10\" >1.000000</td>\n",
       "      <td id=\"T_6270d_row10_col11\" class=\"data row10 col11\" >-0.164171</td>\n",
       "      <td id=\"T_6270d_row10_col12\" class=\"data row10 col12\" >-0.042632</td>\n",
       "    </tr>\n",
       "    <tr>\n",
       "      <th id=\"T_6270d_level0_row11\" class=\"row_heading level0 row11\" >Precip Type_rain</th>\n",
       "      <td id=\"T_6270d_row11_col0\" class=\"data row11 col0\" >0.004035</td>\n",
       "      <td id=\"T_6270d_row11_col1\" class=\"data row11 col1\" >0.633115</td>\n",
       "      <td id=\"T_6270d_row11_col2\" class=\"data row11 col2\" >0.624933</td>\n",
       "      <td id=\"T_6270d_row11_col3\" class=\"data row11 col3\" >-0.179775</td>\n",
       "      <td id=\"T_6270d_row11_col4\" class=\"data row11 col4\" >0.085604</td>\n",
       "      <td id=\"T_6270d_row11_col5\" class=\"data row11 col5\" >0.027808</td>\n",
       "      <td id=\"T_6270d_row11_col6\" class=\"data row11 col6\" >0.329072</td>\n",
       "      <td id=\"T_6270d_row11_col7\" class=\"data row11 col7\" >-0.339731</td>\n",
       "      <td id=\"T_6270d_row11_col8\" class=\"data row11 col8\" >-0.029784</td>\n",
       "      <td id=\"T_6270d_row11_col9\" class=\"data row11 col9\" >0.140664</td>\n",
       "      <td id=\"T_6270d_row11_col10\" class=\"data row11 col10\" >-0.164171</td>\n",
       "      <td id=\"T_6270d_row11_col11\" class=\"data row11 col11\" >1.000000</td>\n",
       "      <td id=\"T_6270d_row11_col12\" class=\"data row11 col12\" >-0.978536</td>\n",
       "    </tr>\n",
       "    <tr>\n",
       "      <th id=\"T_6270d_level0_row12\" class=\"row_heading level0 row12\" >Precip Type_snow</th>\n",
       "      <td id=\"T_6270d_row12_col0\" class=\"data row12 col0\" >0.003618</td>\n",
       "      <td id=\"T_6270d_row12_col1\" class=\"data row12 col1\" >-0.642834</td>\n",
       "      <td id=\"T_6270d_row12_col2\" class=\"data row12 col2\" >-0.634713</td>\n",
       "      <td id=\"T_6270d_row12_col3\" class=\"data row12 col3\" >0.186964</td>\n",
       "      <td id=\"T_6270d_row12_col4\" class=\"data row12 col4\" >-0.087791</td>\n",
       "      <td id=\"T_6270d_row12_col5\" class=\"data row12 col5\" >-0.028533</td>\n",
       "      <td id=\"T_6270d_row12_col6\" class=\"data row12 col6\" >-0.322302</td>\n",
       "      <td id=\"T_6270d_row12_col7\" class=\"data row12 col7\" >0.337726</td>\n",
       "      <td id=\"T_6270d_row12_col8\" class=\"data row12 col8\" >0.018067</td>\n",
       "      <td id=\"T_6270d_row12_col9\" class=\"data row12 col9\" >-0.154475</td>\n",
       "      <td id=\"T_6270d_row12_col10\" class=\"data row12 col10\" >-0.042632</td>\n",
       "      <td id=\"T_6270d_row12_col11\" class=\"data row12 col11\" >-0.978536</td>\n",
       "      <td id=\"T_6270d_row12_col12\" class=\"data row12 col12\" >1.000000</td>\n",
       "    </tr>\n",
       "  </tbody>\n",
       "</table>\n"
      ],
      "text/plain": [
       "<pandas.io.formats.style.Styler at 0x22c43a8df40>"
      ]
     },
     "execution_count": 617,
     "metadata": {},
     "output_type": "execute_result"
    }
   ],
   "source": [
    "weather_dataset.corr().style.background_gradient(cmap='coolwarm')"
   ]
  },
  {
   "cell_type": "code",
   "execution_count": 618,
   "id": "0cd6c484",
   "metadata": {},
   "outputs": [
    {
     "name": "stdout",
     "output_type": "stream",
     "text": [
      "<class 'pandas.core.frame.DataFrame'>\n",
      "Index: 33654 entries, 46 to 96436\n",
      "Data columns (total 13 columns):\n",
      " #   Column                    Non-Null Count  Dtype  \n",
      "---  ------                    --------------  -----  \n",
      " 0   Summary                   33654 non-null  int32  \n",
      " 1   Temperature (C)           33654 non-null  float64\n",
      " 2   Apparent Temperature (C)  33654 non-null  float64\n",
      " 3   Humidity                  33654 non-null  float64\n",
      " 4   Wind Speed (km/h)         33654 non-null  float64\n",
      " 5   Wind Bearing (degrees)    33654 non-null  float64\n",
      " 6   Visibility (km)           33654 non-null  float64\n",
      " 7   Pressure (millibars)      33654 non-null  float64\n",
      " 8   Day                       33654 non-null  int32  \n",
      " 9   Month                     33654 non-null  int32  \n",
      " 10  Precip Type_None          33654 non-null  bool   \n",
      " 11  Precip Type_rain          33654 non-null  bool   \n",
      " 12  Precip Type_snow          33654 non-null  bool   \n",
      "dtypes: bool(3), float64(7), int32(3)\n",
      "memory usage: 2.5 MB\n"
     ]
    }
   ],
   "source": [
    "weather_dataset.info()"
   ]
  },
  {
   "cell_type": "code",
   "execution_count": 619,
   "id": "aef76148",
   "metadata": {},
   "outputs": [],
   "source": [
    "# dropping apparent temperature due to high correlation with temperature\n",
    "weather_dataset = weather_dataset.drop([\"Apparent Temperature (C)\"], axis=1)"
   ]
  },
  {
   "cell_type": "markdown",
   "id": "dca809a0",
   "metadata": {},
   "source": [
    "Splitting the data"
   ]
  },
  {
   "cell_type": "code",
   "execution_count": 620,
   "id": "7714b4cf",
   "metadata": {},
   "outputs": [],
   "source": [
    "X = weather_dataset.drop([\"Summary\"], axis=1)\n",
    "y = weather_dataset[\"Summary\"]"
   ]
  },
  {
   "cell_type": "code",
   "execution_count": 586,
   "id": "9ef8c63d",
   "metadata": {},
   "outputs": [],
   "source": [
    "# from statsmodels.stats.outliers_influence import variance_inflation_factor\n",
    "\n",
    "# # Calculate VIF for each feature\n",
    "# vif = pd.DataFrame()\n",
    "# vif[\"feature\"] = X.columns\n",
    "# vif[\"VIF\"] = [variance_inflation_factor(X.values, i) for i in range(X.shape[1])]\n",
    "# vif = vif.sort_values(by=\"VIF\", ascending=False)\n",
    "\n",
    "# print(vif)"
   ]
  },
  {
   "cell_type": "markdown",
   "id": "1f0dc41b",
   "metadata": {},
   "source": [
    "# Non-Parametric Models"
   ]
  },
  {
   "cell_type": "markdown",
   "id": "2143c356",
   "metadata": {},
   "source": [
    "## 1. kNN"
   ]
  },
  {
   "cell_type": "code",
   "execution_count": 587,
   "id": "c8ff54b7",
   "metadata": {},
   "outputs": [],
   "source": [
    "standard_scaler = StandardScaler()\n",
    "columns_to_standardize = [\"Temperature (C)\", \"Wind Speed (km/h)\", \"Pressure (millibars)\", \"Humidity\", \"Visibility (km)\", \"Day\", \"Month\", \"Wind Bearing (degrees)\"]\n",
    "X[columns_to_standardize] = standard_scaler.fit_transform(X[columns_to_standardize])"
   ]
  },
  {
   "cell_type": "code",
   "execution_count": 588,
   "id": "05608b90",
   "metadata": {},
   "outputs": [],
   "source": [
    "X_train, X_test, y_train, y_test = train_test_split(X, y, test_size=0.2, random_state=20, stratify=y)"
   ]
  },
  {
   "cell_type": "code",
   "execution_count": 589,
   "id": "960c387b",
   "metadata": {},
   "outputs": [
    {
     "data": {
      "text/markdown": [
       "### Grid Search Results"
      ],
      "text/plain": [
       "<IPython.core.display.Markdown object>"
      ]
     },
     "metadata": {},
     "output_type": "display_data"
    },
    {
     "data": {
      "text/html": [
       "<style type=\"text/css\">\n",
       "</style>\n",
       "<table id=\"T_fed90\">\n",
       "  <thead>\n",
       "    <tr>\n",
       "      <th id=\"T_fed90_level0_col0\" class=\"col_heading level0 col0\" >param_metric</th>\n",
       "      <th id=\"T_fed90_level0_col1\" class=\"col_heading level0 col1\" >param_n_neighbors</th>\n",
       "      <th id=\"T_fed90_level0_col2\" class=\"col_heading level0 col2\" >mean_test_score</th>\n",
       "      <th id=\"T_fed90_level0_col3\" class=\"col_heading level0 col3\" >std_test_score</th>\n",
       "    </tr>\n",
       "  </thead>\n",
       "  <tbody>\n",
       "    <tr>\n",
       "      <td id=\"T_fed90_row0_col0\" class=\"data row0 col0\" >manhattan</td>\n",
       "      <td id=\"T_fed90_row0_col1\" class=\"data row0 col1\" >1</td>\n",
       "      <td id=\"T_fed90_row0_col2\" class=\"data row0 col2\" >0.890354</td>\n",
       "      <td id=\"T_fed90_row0_col3\" class=\"data row0 col3\" >0.005178</td>\n",
       "    </tr>\n",
       "    <tr>\n",
       "      <td id=\"T_fed90_row1_col0\" class=\"data row1 col0\" >manhattan</td>\n",
       "      <td id=\"T_fed90_row1_col1\" class=\"data row1 col1\" >3</td>\n",
       "      <td id=\"T_fed90_row1_col2\" class=\"data row1 col2\" >0.880771</td>\n",
       "      <td id=\"T_fed90_row1_col3\" class=\"data row1 col3\" >0.002945</td>\n",
       "    </tr>\n",
       "    <tr>\n",
       "      <td id=\"T_fed90_row2_col0\" class=\"data row2 col0\" >manhattan</td>\n",
       "      <td id=\"T_fed90_row2_col1\" class=\"data row2 col1\" >5</td>\n",
       "      <td id=\"T_fed90_row2_col2\" class=\"data row2 col2\" >0.874048</td>\n",
       "      <td id=\"T_fed90_row2_col3\" class=\"data row2 col3\" >0.002866</td>\n",
       "    </tr>\n",
       "    <tr>\n",
       "      <td id=\"T_fed90_row3_col0\" class=\"data row3 col0\" >euclidean</td>\n",
       "      <td id=\"T_fed90_row3_col1\" class=\"data row3 col1\" >1</td>\n",
       "      <td id=\"T_fed90_row3_col2\" class=\"data row3 col2\" >0.870445</td>\n",
       "      <td id=\"T_fed90_row3_col3\" class=\"data row3 col3\" >0.003162</td>\n",
       "    </tr>\n",
       "    <tr>\n",
       "      <td id=\"T_fed90_row4_col0\" class=\"data row4 col0\" >manhattan</td>\n",
       "      <td id=\"T_fed90_row4_col1\" class=\"data row4 col1\" >2</td>\n",
       "      <td id=\"T_fed90_row4_col2\" class=\"data row4 col2\" >0.865542</td>\n",
       "      <td id=\"T_fed90_row4_col3\" class=\"data row4 col3\" >0.000734</td>\n",
       "    </tr>\n",
       "    <tr>\n",
       "      <td id=\"T_fed90_row5_col0\" class=\"data row5 col0\" >euclidean</td>\n",
       "      <td id=\"T_fed90_row5_col1\" class=\"data row5 col1\" >3</td>\n",
       "      <td id=\"T_fed90_row5_col2\" class=\"data row5 col2\" >0.860937</td>\n",
       "      <td id=\"T_fed90_row5_col3\" class=\"data row5 col3\" >0.002738</td>\n",
       "    </tr>\n",
       "    <tr>\n",
       "      <td id=\"T_fed90_row6_col0\" class=\"data row6 col0\" >euclidean</td>\n",
       "      <td id=\"T_fed90_row6_col1\" class=\"data row6 col1\" >5</td>\n",
       "      <td id=\"T_fed90_row6_col2\" class=\"data row6 col2\" >0.853062</td>\n",
       "      <td id=\"T_fed90_row6_col3\" class=\"data row6 col3\" >0.003014</td>\n",
       "    </tr>\n",
       "    <tr>\n",
       "      <td id=\"T_fed90_row7_col0\" class=\"data row7 col0\" >euclidean</td>\n",
       "      <td id=\"T_fed90_row7_col1\" class=\"data row7 col1\" >2</td>\n",
       "      <td id=\"T_fed90_row7_col2\" class=\"data row7 col2\" >0.844965</td>\n",
       "      <td id=\"T_fed90_row7_col3\" class=\"data row7 col3\" >0.001145</td>\n",
       "    </tr>\n",
       "  </tbody>\n",
       "</table>\n"
      ],
      "text/plain": [
       "<pandas.io.formats.style.Styler at 0x22c44290fe0>"
      ]
     },
     "metadata": {},
     "output_type": "display_data"
    },
    {
     "data": {
      "image/png": "[encoded data removed]",
      "text/plain": [
       "<Figure size 500x400 with 2 Axes>"
      ]
     },
     "metadata": {},
     "output_type": "display_data"
    },
    {
     "data": {
      "text/markdown": [
       "### Best Model Parameters"
      ],
      "text/plain": [
       "<IPython.core.display.Markdown object>"
      ]
     },
     "metadata": {},
     "output_type": "display_data"
    },
    {
     "data": {
      "text/html": [
       "<style type=\"text/css\">\n",
       "</style>\n",
       "<table id=\"T_e78ec\">\n",
       "  <thead>\n",
       "    <tr>\n",
       "      <th id=\"T_e78ec_level0_col0\" class=\"col_heading level0 col0\" >Attribute</th>\n",
       "      <th id=\"T_e78ec_level0_col1\" class=\"col_heading level0 col1\" >Value</th>\n",
       "    </tr>\n",
       "  </thead>\n",
       "  <tbody>\n",
       "    <tr>\n",
       "      <td id=\"T_e78ec_row0_col0\" class=\"data row0 col0\" >metric</td>\n",
       "      <td id=\"T_e78ec_row0_col1\" class=\"data row0 col1\" >manhattan</td>\n",
       "    </tr>\n",
       "    <tr>\n",
       "      <td id=\"T_e78ec_row1_col0\" class=\"data row1 col0\" >n_neighbors</td>\n",
       "      <td id=\"T_e78ec_row1_col1\" class=\"data row1 col1\" >1</td>\n",
       "    </tr>\n",
       "    <tr>\n",
       "      <td id=\"T_e78ec_row2_col0\" class=\"data row2 col0\" >mean_test_score</td>\n",
       "      <td id=\"T_e78ec_row2_col1\" class=\"data row2 col1\" >0.8904</td>\n",
       "    </tr>\n",
       "  </tbody>\n",
       "</table>\n"
      ],
      "text/plain": [
       "<pandas.io.formats.style.Styler at 0x22c29af8f20>"
      ]
     },
     "metadata": {},
     "output_type": "display_data"
    },
    {
     "data": {
      "text/markdown": [
       "### Classification Report"
      ],
      "text/plain": [
       "<IPython.core.display.Markdown object>"
      ]
     },
     "metadata": {},
     "output_type": "display_data"
    },
    {
     "data": {
      "text/html": [
       "<div>\n",
       "<style scoped>\n",
       "    .dataframe tbody tr th:only-of-type {\n",
       "        vertical-align: middle;\n",
       "    }\n",
       "\n",
       "    .dataframe tbody tr th {\n",
       "        vertical-align: top;\n",
       "    }\n",
       "\n",
       "    .dataframe thead th {\n",
       "        text-align: right;\n",
       "    }\n",
       "</style>\n",
       "<table border=\"1\" class=\"dataframe\">\n",
       "  <thead>\n",
       "    <tr style=\"text-align: right;\">\n",
       "      <th></th>\n",
       "      <th>precision</th>\n",
       "      <th>recall</th>\n",
       "      <th>f1-score</th>\n",
       "      <th>support</th>\n",
       "    </tr>\n",
       "  </thead>\n",
       "  <tbody>\n",
       "    <tr>\n",
       "      <th>Clear</th>\n",
       "      <td>0.894</td>\n",
       "      <td>0.877</td>\n",
       "      <td>0.885</td>\n",
       "      <td>2032.000</td>\n",
       "    </tr>\n",
       "    <tr>\n",
       "      <th>Foggy</th>\n",
       "      <td>0.900</td>\n",
       "      <td>0.917</td>\n",
       "      <td>0.909</td>\n",
       "      <td>1410.000</td>\n",
       "    </tr>\n",
       "    <tr>\n",
       "      <th>Overcast</th>\n",
       "      <td>0.907</td>\n",
       "      <td>0.910</td>\n",
       "      <td>0.909</td>\n",
       "      <td>3289.000</td>\n",
       "    </tr>\n",
       "    <tr>\n",
       "      <th>accuracy</th>\n",
       "      <td>0.902</td>\n",
       "      <td>0.902</td>\n",
       "      <td>0.902</td>\n",
       "      <td>0.902</td>\n",
       "    </tr>\n",
       "    <tr>\n",
       "      <th>macro avg</th>\n",
       "      <td>0.900</td>\n",
       "      <td>0.901</td>\n",
       "      <td>0.901</td>\n",
       "      <td>6731.000</td>\n",
       "    </tr>\n",
       "    <tr>\n",
       "      <th>weighted avg</th>\n",
       "      <td>0.902</td>\n",
       "      <td>0.902</td>\n",
       "      <td>0.902</td>\n",
       "      <td>6731.000</td>\n",
       "    </tr>\n",
       "  </tbody>\n",
       "</table>\n",
       "</div>"
      ],
      "text/plain": [
       "              precision  recall  f1-score   support\n",
       "Clear             0.894   0.877     0.885  2032.000\n",
       "Foggy             0.900   0.917     0.909  1410.000\n",
       "Overcast          0.907   0.910     0.909  3289.000\n",
       "accuracy          0.902   0.902     0.902     0.902\n",
       "macro avg         0.900   0.901     0.901  6731.000\n",
       "weighted avg      0.902   0.902     0.902  6731.000"
      ]
     },
     "metadata": {},
     "output_type": "display_data"
    },
    {
     "data": {
      "image/png": "[encoded data removed]",
      "text/plain": [
       "<Figure size 500x400 with 1 Axes>"
      ]
     },
     "metadata": {},
     "output_type": "display_data"
    },
    {
     "data": {
      "text/markdown": [
       "### Accuracy on Test Set: `0.9016`"
      ],
      "text/plain": [
       "<IPython.core.display.Markdown object>"
      ]
     },
     "metadata": {},
     "output_type": "display_data"
    }
   ],
   "source": [
    "from sklearn.neighbors import KNeighborsClassifier\n",
    "\n",
    "# Cross-validation strategy\n",
    "skf = StratifiedKFold(n_splits=5, shuffle=True, random_state=42)\n",
    "\n",
    "# Hyperparameter grid\n",
    "param_grid = {\n",
    "    'n_neighbors': [1, 2, 3, 5],\n",
    "    'metric': ['euclidean', 'manhattan']\n",
    "}\n",
    "\n",
    "# Grid Search\n",
    "grid = GridSearchCV(KNeighborsClassifier(), param_grid, cv=skf,\n",
    "                    scoring='accuracy', n_jobs=-1, return_train_score=True)\n",
    "grid.fit(X_train, y_train)\n",
    "\n",
    "# Display results\n",
    "display_grid_search_results(grid, X_test, y_test, label_names)"
   ]
  },
  {
   "cell_type": "code",
   "execution_count": 590,
   "id": "ad2410de",
   "metadata": {},
   "outputs": [
    {
     "data": {
      "text/html": [
       "\n",
       "<style>\n",
       ".widget-label {\n",
       "    text-align: left !important;\n",
       "    min-width: 160px;\n",
       "}\n",
       "</style>\n"
      ],
      "text/plain": [
       "<IPython.core.display.HTML object>"
      ]
     },
     "metadata": {},
     "output_type": "display_data"
    },
    {
     "data": {
      "application/vnd.jupyter.widget-view+json": {
       "model_id": "fa6feb04ca83450eb39c2be5b6e64dd1",
       "version_major": 2,
       "version_minor": 0
      },
      "text/plain": [
       "VBox(children=(HTML(value=\"<h2 style='margin-bottom:10px; margin-left:40px;'>🌦️ Weather Prediction Tool</h2>\")…"
      ]
     },
     "metadata": {},
     "output_type": "display_data"
    }
   ],
   "source": [
    "final_columns = X.columns.tolist()\n",
    "\n",
    "def preprocess_user_input(df):\n",
    "    df[columns_to_standardize] = standard_scaler.transform(df[columns_to_standardize])\n",
    "    df[columns_to_normalize] = minmax_scaler.transform(df[columns_to_normalize])\n",
    "    \n",
    "    df = pd.get_dummies(df, columns=['Precip Type'])\n",
    "    \n",
    "    for col in final_columns:\n",
    "        if col not in df.columns:\n",
    "            df[col] = 0\n",
    "            \n",
    "    df = df[final_columns]    \n",
    "    return df\n",
    "\n",
    "display(HTML(\"\"\"\n",
    "<style>\n",
    ".widget-label {\n",
    "    text-align: left !important;\n",
    "    min-width: 160px;\n",
    "}\n",
    "</style>\n",
    "\"\"\"))\n",
    "\n",
    "def predict_weather(preprocess_fn, model):\n",
    "    # Layout and style\n",
    "    widget_layout = widgets.Layout(width='350px', margin='0 0 10px 0')\n",
    "    desc_style = {'description_width': 'initial'}\n",
    "\n",
    "    # Input widgets\n",
    "    temperature = widgets.FloatText(description='Temperature (C):', layout=widget_layout, style=desc_style)\n",
    "    wind_speed = widgets.FloatText(description='Wind Speed (km/h):', layout=widget_layout, style=desc_style)\n",
    "    visibility = widgets.FloatText(description='Visibility (km):', layout=widget_layout, style=desc_style)\n",
    "    pressure = widgets.FloatText(description='Pressure (millibars):', layout=widget_layout, style=desc_style)\n",
    "    humidity = widgets.FloatText(description='Humidity:', layout=widget_layout, style=desc_style)\n",
    "    wind_bearing = widgets.FloatText(description='Wind Bearing (degrees):', layout=widget_layout, style=desc_style)\n",
    "    precip_type = widgets.Dropdown(options=['None', 'Rain', 'Snow'], description='Precip Type:', layout=widget_layout, style=desc_style)\n",
    "    date = widgets.DatePicker(description='Date:', layout=widget_layout, style=desc_style)\n",
    "    \n",
    "\n",
    "    # Predict button\n",
    "    button = widgets.Button(description=\"Predict\", layout=widgets.Layout(width='150px'))\n",
    "    output = widgets.Output()\n",
    "\n",
    "    def on_button_clicked(b):\n",
    "        with output:\n",
    "            clear_output()\n",
    "            try:\n",
    "                user_date = date.value\n",
    "                if user_date is None:\n",
    "                    raise ValueError(\"Please select a date.\")\n",
    "                \n",
    "                user_df = pd.DataFrame({\n",
    "                    \"Temperature (C)\": [temperature.value],\n",
    "                    \"Wind Speed (km/h)\": [wind_speed.value],\n",
    "                    \"Visibility (km)\": [visibility.value],\n",
    "                    \"Pressure (millibars)\": [pressure.value],\n",
    "                    \"Humidity\": [humidity.value],\n",
    "                    \"Wind Bearing (degrees)\": [wind_bearing.value],\n",
    "                    \"Precip Type\": [precip_type.value],\n",
    "                    \"Month\": [user_date.month],\n",
    "                    \"Day\": [user_date.day]\n",
    "                })\n",
    "                processed = preprocess_fn(user_df)\n",
    "                pred = model.predict(processed)[0]\n",
    "                display(HTML(f\"<h4>🌤️ Predicted Class: <span style='color:green'>{label_names[pred]}</span></h4>\"))\n",
    "            except Exception as e:\n",
    "                display(HTML(f\"<b style='color:red'>❌ Error: {str(e)}</b>\"))\n",
    "\n",
    "\n",
    "    button.on_click(on_button_clicked)\n",
    "\n",
    "    # Heading\n",
    "    heading = widgets.HTML(\"<h2 style='margin-bottom:10px; margin-left:40px;'>🌦️ Weather Prediction Tool</h2>\")\n",
    "\n",
    "    # Button container for centering\n",
    "    button_box = widgets.HBox([button], layout=widgets.Layout(margin='0 0 0 100px'))\n",
    "\n",
    "    # Display all\n",
    "    display(widgets.VBox([\n",
    "        heading,\n",
    "        temperature, wind_speed, visibility, pressure,\n",
    "        humidity, wind_bearing, precip_type, date,\n",
    "        button_box,\n",
    "        output\n",
    "    ]))\n",
    "\n",
    "predict_weather(preprocess_user_input, grid)\n"
   ]
  },
  {
   "cell_type": "markdown",
   "id": "cd3c58d1",
   "metadata": {},
   "source": [
    "## 2. Decision Tree"
   ]
  },
  {
   "cell_type": "code",
   "execution_count": 556,
   "id": "50ae016b",
   "metadata": {},
   "outputs": [],
   "source": [
    "# Split into training and test sets\n",
    "X_train, X_test, y_train, y_test = train_test_split(X, y, test_size=0.2, random_state=42)"
   ]
  },
  {
   "cell_type": "code",
   "execution_count": null,
   "id": "468b3a1b",
   "metadata": {},
   "outputs": [
    {
     "data": {
      "text/markdown": [
       "### Grid Search Results"
      ],
      "text/plain": [
       "<IPython.core.display.Markdown object>"
      ]
     },
     "metadata": {},
     "output_type": "display_data"
    },
    {
     "data": {
      "text/html": [
       "<style type=\"text/css\">\n",
       "</style>\n",
       "<table id=\"T_b0830\">\n",
       "  <thead>\n",
       "    <tr>\n",
       "      <th id=\"T_b0830_level0_col0\" class=\"col_heading level0 col0\" >param_criterion</th>\n",
       "      <th id=\"T_b0830_level0_col1\" class=\"col_heading level0 col1\" >param_max_depth</th>\n",
       "      <th id=\"T_b0830_level0_col2\" class=\"col_heading level0 col2\" >mean_test_score</th>\n",
       "      <th id=\"T_b0830_level0_col3\" class=\"col_heading level0 col3\" >std_test_score</th>\n",
       "    </tr>\n",
       "  </thead>\n",
       "  <tbody>\n",
       "    <tr>\n",
       "      <td id=\"T_b0830_row0_col0\" class=\"data row0 col0\" >entropy</td>\n",
       "      <td id=\"T_b0830_row0_col1\" class=\"data row0 col1\" >20</td>\n",
       "      <td id=\"T_b0830_row0_col2\" class=\"data row0 col2\" >0.875942</td>\n",
       "      <td id=\"T_b0830_row0_col3\" class=\"data row0 col3\" >0.003464</td>\n",
       "    </tr>\n",
       "    <tr>\n",
       "      <td id=\"T_b0830_row1_col0\" class=\"data row1 col0\" >gini</td>\n",
       "      <td id=\"T_b0830_row1_col1\" class=\"data row1 col1\" >20</td>\n",
       "      <td id=\"T_b0830_row1_col2\" class=\"data row1 col2\" >0.869739</td>\n",
       "      <td id=\"T_b0830_row1_col3\" class=\"data row1 col3\" >0.004422</td>\n",
       "    </tr>\n",
       "    <tr>\n",
       "      <td id=\"T_b0830_row2_col0\" class=\"data row2 col0\" >entropy</td>\n",
       "      <td id=\"T_b0830_row2_col1\" class=\"data row2 col1\" >15</td>\n",
       "      <td id=\"T_b0830_row2_col2\" class=\"data row2 col2\" >0.868922</td>\n",
       "      <td id=\"T_b0830_row2_col3\" class=\"data row2 col3\" >0.002653</td>\n",
       "    </tr>\n",
       "    <tr>\n",
       "      <td id=\"T_b0830_row3_col0\" class=\"data row3 col0\" >gini</td>\n",
       "      <td id=\"T_b0830_row3_col1\" class=\"data row3 col1\" >15</td>\n",
       "      <td id=\"T_b0830_row3_col2\" class=\"data row3 col2\" >0.866619</td>\n",
       "      <td id=\"T_b0830_row3_col3\" class=\"data row3 col3\" >0.005710</td>\n",
       "    </tr>\n",
       "    <tr>\n",
       "      <td id=\"T_b0830_row4_col0\" class=\"data row4 col0\" >gini</td>\n",
       "      <td id=\"T_b0830_row4_col1\" class=\"data row4 col1\" >10</td>\n",
       "      <td id=\"T_b0830_row4_col2\" class=\"data row4 col2\" >0.857705</td>\n",
       "      <td id=\"T_b0830_row4_col3\" class=\"data row4 col3\" >0.006885</td>\n",
       "    </tr>\n",
       "    <tr>\n",
       "      <td id=\"T_b0830_row5_col0\" class=\"data row5 col0\" >entropy</td>\n",
       "      <td id=\"T_b0830_row5_col1\" class=\"data row5 col1\" >10</td>\n",
       "      <td id=\"T_b0830_row5_col2\" class=\"data row5 col2\" >0.851985</td>\n",
       "      <td id=\"T_b0830_row5_col3\" class=\"data row5 col3\" >0.004286</td>\n",
       "    </tr>\n",
       "  </tbody>\n",
       "</table>\n"
      ],
      "text/plain": [
       "<pandas.io.formats.style.Styler at 0x22c305858e0>"
      ]
     },
     "metadata": {},
     "output_type": "display_data"
    },
    {
     "data": {
      "image/png": "[encoded data removed]",
      "text/plain": [
       "<Figure size 500x400 with 2 Axes>"
      ]
     },
     "metadata": {},
     "output_type": "display_data"
    },
    {
     "data": {
      "text/markdown": [
       "### Best Model Parameters"
      ],
      "text/plain": [
       "<IPython.core.display.Markdown object>"
      ]
     },
     "metadata": {},
     "output_type": "display_data"
    },
    {
     "data": {
      "text/html": [
       "<style type=\"text/css\">\n",
       "</style>\n",
       "<table id=\"T_67fbf\">\n",
       "  <thead>\n",
       "    <tr>\n",
       "      <th id=\"T_67fbf_level0_col0\" class=\"col_heading level0 col0\" >Attribute</th>\n",
       "      <th id=\"T_67fbf_level0_col1\" class=\"col_heading level0 col1\" >Value</th>\n",
       "    </tr>\n",
       "  </thead>\n",
       "  <tbody>\n",
       "    <tr>\n",
       "      <td id=\"T_67fbf_row0_col0\" class=\"data row0 col0\" >criterion</td>\n",
       "      <td id=\"T_67fbf_row0_col1\" class=\"data row0 col1\" >entropy</td>\n",
       "    </tr>\n",
       "    <tr>\n",
       "      <td id=\"T_67fbf_row1_col0\" class=\"data row1 col0\" >max_depth</td>\n",
       "      <td id=\"T_67fbf_row1_col1\" class=\"data row1 col1\" >20</td>\n",
       "    </tr>\n",
       "    <tr>\n",
       "      <td id=\"T_67fbf_row2_col0\" class=\"data row2 col0\" >mean_test_score</td>\n",
       "      <td id=\"T_67fbf_row2_col1\" class=\"data row2 col1\" >0.8759</td>\n",
       "    </tr>\n",
       "  </tbody>\n",
       "</table>\n"
      ],
      "text/plain": [
       "<pandas.io.formats.style.Styler at 0x22c3054f4a0>"
      ]
     },
     "metadata": {},
     "output_type": "display_data"
    },
    {
     "data": {
      "text/markdown": [
       "### Classification Report"
      ],
      "text/plain": [
       "<IPython.core.display.Markdown object>"
      ]
     },
     "metadata": {},
     "output_type": "display_data"
    },
    {
     "data": {
      "text/html": [
       "<div>\n",
       "<style scoped>\n",
       "    .dataframe tbody tr th:only-of-type {\n",
       "        vertical-align: middle;\n",
       "    }\n",
       "\n",
       "    .dataframe tbody tr th {\n",
       "        vertical-align: top;\n",
       "    }\n",
       "\n",
       "    .dataframe thead th {\n",
       "        text-align: right;\n",
       "    }\n",
       "</style>\n",
       "<table border=\"1\" class=\"dataframe\">\n",
       "  <thead>\n",
       "    <tr style=\"text-align: right;\">\n",
       "      <th></th>\n",
       "      <th>precision</th>\n",
       "      <th>recall</th>\n",
       "      <th>f1-score</th>\n",
       "      <th>support</th>\n",
       "    </tr>\n",
       "  </thead>\n",
       "  <tbody>\n",
       "    <tr>\n",
       "      <th>Clear</th>\n",
       "      <td>0.797</td>\n",
       "      <td>0.786</td>\n",
       "      <td>0.791</td>\n",
       "      <td>2033.000</td>\n",
       "    </tr>\n",
       "    <tr>\n",
       "      <th>Foggy</th>\n",
       "      <td>1.000</td>\n",
       "      <td>0.997</td>\n",
       "      <td>0.999</td>\n",
       "      <td>1405.000</td>\n",
       "    </tr>\n",
       "    <tr>\n",
       "      <th>Overcast</th>\n",
       "      <td>0.869</td>\n",
       "      <td>0.878</td>\n",
       "      <td>0.873</td>\n",
       "      <td>3293.000</td>\n",
       "    </tr>\n",
       "    <tr>\n",
       "      <th>accuracy</th>\n",
       "      <td>0.875</td>\n",
       "      <td>0.875</td>\n",
       "      <td>0.875</td>\n",
       "      <td>0.875</td>\n",
       "    </tr>\n",
       "    <tr>\n",
       "      <th>macro avg</th>\n",
       "      <td>0.889</td>\n",
       "      <td>0.887</td>\n",
       "      <td>0.888</td>\n",
       "      <td>6731.000</td>\n",
       "    </tr>\n",
       "    <tr>\n",
       "      <th>weighted avg</th>\n",
       "      <td>0.875</td>\n",
       "      <td>0.875</td>\n",
       "      <td>0.875</td>\n",
       "      <td>6731.000</td>\n",
       "    </tr>\n",
       "  </tbody>\n",
       "</table>\n",
       "</div>"
      ],
      "text/plain": [
       "              precision  recall  f1-score   support\n",
       "Clear             0.797   0.786     0.791  2033.000\n",
       "Foggy             1.000   0.997     0.999  1405.000\n",
       "Overcast          0.869   0.878     0.873  3293.000\n",
       "accuracy          0.875   0.875     0.875     0.875\n",
       "macro avg         0.889   0.887     0.888  6731.000\n",
       "weighted avg      0.875   0.875     0.875  6731.000"
      ]
     },
     "metadata": {},
     "output_type": "display_data"
    },
    {
     "data": {
      "image/png": "[encoded data removed]",
      "text/plain": [
       "<Figure size 500x400 with 1 Axes>"
      ]
     },
     "metadata": {},
     "output_type": "display_data"
    },
    {
     "data": {
      "text/markdown": [
       "### Accuracy on Test Set: `0.8748`"
      ],
      "text/plain": [
       "<IPython.core.display.Markdown object>"
      ]
     },
     "metadata": {},
     "output_type": "display_data"
    }
   ],
   "source": [
    "from sklearn.tree import DecisionTreeClassifier\n",
    "\n",
    "skf = StratifiedKFold(n_splits=5, shuffle=True, random_state=42)\n",
    "\n",
    "# Define parameter grid for tuning\n",
    "param_grid = {\n",
    "    'criterion': ['gini', 'entropy'],\n",
    "    'max_depth': [10, 15, 20],                   \n",
    "}\n",
    "\n",
    "# Setup GridSearchCV\n",
    "grid = GridSearchCV(DecisionTreeClassifier(random_state=42), param_grid, cv=skf, scoring='accuracy', n_jobs=-1)\n",
    "grid.fit(X_train, y_train)\n",
    "\n",
    "# Display results\n",
    "display_grid_search_results(grid, X_test, y_test, label_names)"
   ]
  },
  {
   "cell_type": "markdown",
   "id": "0bfe4abe",
   "metadata": {},
   "source": [
    "## 3. SVM"
   ]
  },
  {
   "cell_type": "code",
   "execution_count": 559,
   "id": "a896385c",
   "metadata": {},
   "outputs": [],
   "source": [
    "standard_scaler = StandardScaler()\n",
    "columns_to_standardize = [\"Temperature (C)\", \"Wind Speed (km/h)\", \"Pressure (millibars)\", \"Humidity\", \"Visibility (km)\", \"Day\", \"Month\", \"Wind Bearing (degrees)\"]\n",
    "X[columns_to_standardize] = standard_scaler.fit_transform(X[columns_to_standardize])"
   ]
  },
  {
   "cell_type": "code",
   "execution_count": 560,
   "id": "f2981073",
   "metadata": {},
   "outputs": [],
   "source": [
    "X_train, X_test, y_train, y_test = train_test_split(X, y, test_size=0.2, random_state=42)"
   ]
  },
  {
   "cell_type": "code",
   "execution_count": null,
   "id": "c272580d",
   "metadata": {},
   "outputs": [
    {
     "data": {
      "text/markdown": [
       "### Grid Search Results"
      ],
      "text/plain": [
       "<IPython.core.display.Markdown object>"
      ]
     },
     "metadata": {},
     "output_type": "display_data"
    },
    {
     "data": {
      "text/html": [
       "<style type=\"text/css\">\n",
       "</style>\n",
       "<table id=\"T_832ac\">\n",
       "  <thead>\n",
       "    <tr>\n",
       "      <th id=\"T_832ac_level0_col0\" class=\"col_heading level0 col0\" >param_C</th>\n",
       "      <th id=\"T_832ac_level0_col1\" class=\"col_heading level0 col1\" >param_gamma</th>\n",
       "      <th id=\"T_832ac_level0_col2\" class=\"col_heading level0 col2\" >mean_test_score</th>\n",
       "      <th id=\"T_832ac_level0_col3\" class=\"col_heading level0 col3\" >std_test_score</th>\n",
       "    </tr>\n",
       "  </thead>\n",
       "  <tbody>\n",
       "    <tr>\n",
       "      <td id=\"T_832ac_row0_col0\" class=\"data row0 col0\" >10</td>\n",
       "      <td id=\"T_832ac_row0_col1\" class=\"data row0 col1\" >scale</td>\n",
       "      <td id=\"T_832ac_row0_col2\" class=\"data row0 col2\" >0.883891</td>\n",
       "      <td id=\"T_832ac_row0_col3\" class=\"data row0 col3\" >0.001794</td>\n",
       "    </tr>\n",
       "    <tr>\n",
       "      <td id=\"T_832ac_row1_col0\" class=\"data row1 col0\" >10</td>\n",
       "      <td id=\"T_832ac_row1_col1\" class=\"data row1 col1\" >0.100000</td>\n",
       "      <td id=\"T_832ac_row1_col2\" class=\"data row1 col2\" >0.881700</td>\n",
       "      <td id=\"T_832ac_row1_col3\" class=\"data row1 col3\" >0.002305</td>\n",
       "    </tr>\n",
       "    <tr>\n",
       "      <td id=\"T_832ac_row2_col0\" class=\"data row2 col0\" >1</td>\n",
       "      <td id=\"T_832ac_row2_col1\" class=\"data row2 col1\" >scale</td>\n",
       "      <td id=\"T_832ac_row2_col2\" class=\"data row2 col2\" >0.864688</td>\n",
       "      <td id=\"T_832ac_row2_col3\" class=\"data row2 col3\" >0.002213</td>\n",
       "    </tr>\n",
       "    <tr>\n",
       "      <td id=\"T_832ac_row3_col0\" class=\"data row3 col0\" >1</td>\n",
       "      <td id=\"T_832ac_row3_col1\" class=\"data row3 col1\" >0.100000</td>\n",
       "      <td id=\"T_832ac_row3_col2\" class=\"data row3 col2\" >0.863277</td>\n",
       "      <td id=\"T_832ac_row3_col3\" class=\"data row3 col3\" >0.002410</td>\n",
       "    </tr>\n",
       "  </tbody>\n",
       "</table>\n"
      ],
      "text/plain": [
       "<pandas.io.formats.style.Styler at 0x22c27fbe0f0>"
      ]
     },
     "metadata": {},
     "output_type": "display_data"
    },
    {
     "data": {
      "image/png": "[encoded data removed]",
      "text/plain": [
       "<Figure size 500x400 with 2 Axes>"
      ]
     },
     "metadata": {},
     "output_type": "display_data"
    },
    {
     "data": {
      "text/markdown": [
       "### Best Model Parameters"
      ],
      "text/plain": [
       "<IPython.core.display.Markdown object>"
      ]
     },
     "metadata": {},
     "output_type": "display_data"
    },
    {
     "data": {
      "text/html": [
       "<style type=\"text/css\">\n",
       "</style>\n",
       "<table id=\"T_cb864\">\n",
       "  <thead>\n",
       "    <tr>\n",
       "      <th id=\"T_cb864_level0_col0\" class=\"col_heading level0 col0\" >Attribute</th>\n",
       "      <th id=\"T_cb864_level0_col1\" class=\"col_heading level0 col1\" >Value</th>\n",
       "    </tr>\n",
       "  </thead>\n",
       "  <tbody>\n",
       "    <tr>\n",
       "      <td id=\"T_cb864_row0_col0\" class=\"data row0 col0\" >C</td>\n",
       "      <td id=\"T_cb864_row0_col1\" class=\"data row0 col1\" >10</td>\n",
       "    </tr>\n",
       "    <tr>\n",
       "      <td id=\"T_cb864_row1_col0\" class=\"data row1 col0\" >gamma</td>\n",
       "      <td id=\"T_cb864_row1_col1\" class=\"data row1 col1\" >scale</td>\n",
       "    </tr>\n",
       "    <tr>\n",
       "      <td id=\"T_cb864_row2_col0\" class=\"data row2 col0\" >mean_test_score</td>\n",
       "      <td id=\"T_cb864_row2_col1\" class=\"data row2 col1\" >0.8839</td>\n",
       "    </tr>\n",
       "  </tbody>\n",
       "</table>\n"
      ],
      "text/plain": [
       "<pandas.io.formats.style.Styler at 0x22c43d80860>"
      ]
     },
     "metadata": {},
     "output_type": "display_data"
    },
    {
     "data": {
      "text/markdown": [
       "### Classification Report"
      ],
      "text/plain": [
       "<IPython.core.display.Markdown object>"
      ]
     },
     "metadata": {},
     "output_type": "display_data"
    },
    {
     "data": {
      "text/html": [
       "<div>\n",
       "<style scoped>\n",
       "    .dataframe tbody tr th:only-of-type {\n",
       "        vertical-align: middle;\n",
       "    }\n",
       "\n",
       "    .dataframe tbody tr th {\n",
       "        vertical-align: top;\n",
       "    }\n",
       "\n",
       "    .dataframe thead th {\n",
       "        text-align: right;\n",
       "    }\n",
       "</style>\n",
       "<table border=\"1\" class=\"dataframe\">\n",
       "  <thead>\n",
       "    <tr style=\"text-align: right;\">\n",
       "      <th></th>\n",
       "      <th>precision</th>\n",
       "      <th>recall</th>\n",
       "      <th>f1-score</th>\n",
       "      <th>support</th>\n",
       "    </tr>\n",
       "  </thead>\n",
       "  <tbody>\n",
       "    <tr>\n",
       "      <th>Clear</th>\n",
       "      <td>0.838</td>\n",
       "      <td>0.786</td>\n",
       "      <td>0.811</td>\n",
       "      <td>2033.000</td>\n",
       "    </tr>\n",
       "    <tr>\n",
       "      <th>Foggy</th>\n",
       "      <td>0.978</td>\n",
       "      <td>0.993</td>\n",
       "      <td>0.986</td>\n",
       "      <td>1405.000</td>\n",
       "    </tr>\n",
       "    <tr>\n",
       "      <th>Overcast</th>\n",
       "      <td>0.875</td>\n",
       "      <td>0.903</td>\n",
       "      <td>0.889</td>\n",
       "      <td>3293.000</td>\n",
       "    </tr>\n",
       "    <tr>\n",
       "      <th>accuracy</th>\n",
       "      <td>0.886</td>\n",
       "      <td>0.886</td>\n",
       "      <td>0.886</td>\n",
       "      <td>0.886</td>\n",
       "    </tr>\n",
       "    <tr>\n",
       "      <th>macro avg</th>\n",
       "      <td>0.897</td>\n",
       "      <td>0.894</td>\n",
       "      <td>0.895</td>\n",
       "      <td>6731.000</td>\n",
       "    </tr>\n",
       "    <tr>\n",
       "      <th>weighted avg</th>\n",
       "      <td>0.885</td>\n",
       "      <td>0.886</td>\n",
       "      <td>0.885</td>\n",
       "      <td>6731.000</td>\n",
       "    </tr>\n",
       "  </tbody>\n",
       "</table>\n",
       "</div>"
      ],
      "text/plain": [
       "              precision  recall  f1-score   support\n",
       "Clear             0.838   0.786     0.811  2033.000\n",
       "Foggy             0.978   0.993     0.986  1405.000\n",
       "Overcast          0.875   0.903     0.889  3293.000\n",
       "accuracy          0.886   0.886     0.886     0.886\n",
       "macro avg         0.897   0.894     0.895  6731.000\n",
       "weighted avg      0.885   0.886     0.885  6731.000"
      ]
     },
     "metadata": {},
     "output_type": "display_data"
    },
    {
     "data": {
      "image/png": "[encoded data removed]",
      "text/plain": [
       "<Figure size 500x400 with 1 Axes>"
      ]
     },
     "metadata": {},
     "output_type": "display_data"
    },
    {
     "data": {
      "text/markdown": [
       "### Accuracy on Test Set: `0.8863`"
      ],
      "text/plain": [
       "<IPython.core.display.Markdown object>"
      ]
     },
     "metadata": {},
     "output_type": "display_data"
    }
   ],
   "source": [
    "from sklearn.svm import SVC\n",
    "\n",
    "skf = StratifiedKFold(n_splits=5, shuffle=True, random_state=42)\n",
    "\n",
    "# Simplified parameter grid for multiclass\n",
    "param_grid = {\n",
    "    'C': [1, 10],          \n",
    "    'gamma': ['scale', 0.1]\n",
    "}\n",
    "\n",
    "svc = SVC(random_state=42, decision_function_shape='ovr', kernel=\"rbf\")  # 'ovr' for multiclass\n",
    "\n",
    "# Create grid search with reduced parameters\n",
    "grid = GridSearchCV(svc, param_grid, cv=skf, scoring='accuracy', n_jobs=-1)\n",
    "grid.fit(X_train, y_train)\n",
    "\n",
    "# Display results\n",
    "display_grid_search_results(grid, X_test, y_test, label_names)\n"
   ]
  },
  {
   "cell_type": "markdown",
   "id": "cecdf93f",
   "metadata": {},
   "source": [
    "# Parametric Models"
   ]
  },
  {
   "cell_type": "markdown",
   "id": "80fdf32b",
   "metadata": {},
   "source": [
    "## 1. Logistic Regression"
   ]
  },
  {
   "cell_type": "code",
   "execution_count": 627,
   "id": "18079f7c",
   "metadata": {},
   "outputs": [],
   "source": [
    "standard_scaler = StandardScaler()\n",
    "columns_to_standardize = [\"Temperature (C)\", \"Wind Speed (km/h)\", \"Pressure (millibars)\", \"Humidity\", \"Visibility (km)\", \"Wind Bearing (degrees)\", \"Day\", \"Month\"]\n",
    "X[columns_to_standardize] = standard_scaler.fit_transform(X[columns_to_standardize])"
   ]
  },
  {
   "cell_type": "code",
   "execution_count": 628,
   "id": "8d4d8af2",
   "metadata": {},
   "outputs": [],
   "source": [
    "X_train, X_test, y_train, y_test = train_test_split(X, y, test_size=0.2, random_state=42)"
   ]
  },
  {
   "cell_type": "code",
   "execution_count": 629,
   "id": "2b996194",
   "metadata": {},
   "outputs": [
    {
     "data": {
      "text/markdown": [
       "### Grid Search Results"
      ],
      "text/plain": [
       "<IPython.core.display.Markdown object>"
      ]
     },
     "metadata": {},
     "output_type": "display_data"
    },
    {
     "data": {
      "text/html": [
       "<style type=\"text/css\">\n",
       "</style>\n",
       "<table id=\"T_55b9b\">\n",
       "  <thead>\n",
       "    <tr>\n",
       "      <th id=\"T_55b9b_level0_col0\" class=\"col_heading level0 col0\" >param_C</th>\n",
       "      <th id=\"T_55b9b_level0_col1\" class=\"col_heading level0 col1\" >mean_test_score</th>\n",
       "      <th id=\"T_55b9b_level0_col2\" class=\"col_heading level0 col2\" >std_test_score</th>\n",
       "    </tr>\n",
       "  </thead>\n",
       "  <tbody>\n",
       "    <tr>\n",
       "      <td id=\"T_55b9b_row0_col0\" class=\"data row0 col0\" >1000</td>\n",
       "      <td id=\"T_55b9b_row0_col1\" class=\"data row0 col1\" >0.800430</td>\n",
       "      <td id=\"T_55b9b_row0_col2\" class=\"data row0 col2\" >0.006670</td>\n",
       "    </tr>\n",
       "    <tr>\n",
       "      <td id=\"T_55b9b_row1_col0\" class=\"data row1 col0\" >100</td>\n",
       "      <td id=\"T_55b9b_row1_col1\" class=\"data row1 col1\" >0.800393</td>\n",
       "      <td id=\"T_55b9b_row1_col2\" class=\"data row1 col2\" >0.006617</td>\n",
       "    </tr>\n",
       "    <tr>\n",
       "      <td id=\"T_55b9b_row2_col0\" class=\"data row2 col0\" >10</td>\n",
       "      <td id=\"T_55b9b_row2_col1\" class=\"data row2 col1\" >0.799650</td>\n",
       "      <td id=\"T_55b9b_row2_col2\" class=\"data row2 col2\" >0.006774</td>\n",
       "    </tr>\n",
       "    <tr>\n",
       "      <td id=\"T_55b9b_row3_col0\" class=\"data row3 col0\" >1</td>\n",
       "      <td id=\"T_55b9b_row3_col1\" class=\"data row3 col1\" >0.797162</td>\n",
       "      <td id=\"T_55b9b_row3_col2\" class=\"data row3 col2\" >0.007065</td>\n",
       "    </tr>\n",
       "    <tr>\n",
       "      <td id=\"T_55b9b_row4_col0\" class=\"data row4 col0\" >0.100000</td>\n",
       "      <td id=\"T_55b9b_row4_col1\" class=\"data row4 col1\" >0.788805</td>\n",
       "      <td id=\"T_55b9b_row4_col2\" class=\"data row4 col2\" >0.006857</td>\n",
       "    </tr>\n",
       "  </tbody>\n",
       "</table>\n"
      ],
      "text/plain": [
       "<pandas.io.formats.style.Styler at 0x22c4d51f530>"
      ]
     },
     "metadata": {},
     "output_type": "display_data"
    },
    {
     "data": {
      "text/markdown": [
       "### Best Model Parameters"
      ],
      "text/plain": [
       "<IPython.core.display.Markdown object>"
      ]
     },
     "metadata": {},
     "output_type": "display_data"
    },
    {
     "data": {
      "text/html": [
       "<style type=\"text/css\">\n",
       "</style>\n",
       "<table id=\"T_4192f\">\n",
       "  <thead>\n",
       "    <tr>\n",
       "      <th id=\"T_4192f_level0_col0\" class=\"col_heading level0 col0\" >Attribute</th>\n",
       "      <th id=\"T_4192f_level0_col1\" class=\"col_heading level0 col1\" >Value</th>\n",
       "    </tr>\n",
       "  </thead>\n",
       "  <tbody>\n",
       "    <tr>\n",
       "      <td id=\"T_4192f_row0_col0\" class=\"data row0 col0\" >C</td>\n",
       "      <td id=\"T_4192f_row0_col1\" class=\"data row0 col1\" >1000</td>\n",
       "    </tr>\n",
       "    <tr>\n",
       "      <td id=\"T_4192f_row1_col0\" class=\"data row1 col0\" >mean_test_score</td>\n",
       "      <td id=\"T_4192f_row1_col1\" class=\"data row1 col1\" >0.8004</td>\n",
       "    </tr>\n",
       "  </tbody>\n",
       "</table>\n"
      ],
      "text/plain": [
       "<pandas.io.formats.style.Styler at 0x22c4c1de960>"
      ]
     },
     "metadata": {},
     "output_type": "display_data"
    },
    {
     "data": {
      "text/markdown": [
       "### Classification Report"
      ],
      "text/plain": [
       "<IPython.core.display.Markdown object>"
      ]
     },
     "metadata": {},
     "output_type": "display_data"
    },
    {
     "data": {
      "text/html": [
       "<div>\n",
       "<style scoped>\n",
       "    .dataframe tbody tr th:only-of-type {\n",
       "        vertical-align: middle;\n",
       "    }\n",
       "\n",
       "    .dataframe tbody tr th {\n",
       "        vertical-align: top;\n",
       "    }\n",
       "\n",
       "    .dataframe thead th {\n",
       "        text-align: right;\n",
       "    }\n",
       "</style>\n",
       "<table border=\"1\" class=\"dataframe\">\n",
       "  <thead>\n",
       "    <tr style=\"text-align: right;\">\n",
       "      <th></th>\n",
       "      <th>precision</th>\n",
       "      <th>recall</th>\n",
       "      <th>f1-score</th>\n",
       "      <th>support</th>\n",
       "    </tr>\n",
       "  </thead>\n",
       "  <tbody>\n",
       "    <tr>\n",
       "      <th>Clear</th>\n",
       "      <td>0.690</td>\n",
       "      <td>0.672</td>\n",
       "      <td>0.681</td>\n",
       "      <td>2033.000</td>\n",
       "    </tr>\n",
       "    <tr>\n",
       "      <th>Foggy</th>\n",
       "      <td>0.961</td>\n",
       "      <td>0.980</td>\n",
       "      <td>0.970</td>\n",
       "      <td>1405.000</td>\n",
       "    </tr>\n",
       "    <tr>\n",
       "      <th>Overcast</th>\n",
       "      <td>0.799</td>\n",
       "      <td>0.805</td>\n",
       "      <td>0.802</td>\n",
       "      <td>3293.000</td>\n",
       "    </tr>\n",
       "    <tr>\n",
       "      <th>accuracy</th>\n",
       "      <td>0.801</td>\n",
       "      <td>0.801</td>\n",
       "      <td>0.801</td>\n",
       "      <td>0.801</td>\n",
       "    </tr>\n",
       "    <tr>\n",
       "      <th>macro avg</th>\n",
       "      <td>0.817</td>\n",
       "      <td>0.819</td>\n",
       "      <td>0.818</td>\n",
       "      <td>6731.000</td>\n",
       "    </tr>\n",
       "    <tr>\n",
       "      <th>weighted avg</th>\n",
       "      <td>0.800</td>\n",
       "      <td>0.801</td>\n",
       "      <td>0.801</td>\n",
       "      <td>6731.000</td>\n",
       "    </tr>\n",
       "  </tbody>\n",
       "</table>\n",
       "</div>"
      ],
      "text/plain": [
       "              precision  recall  f1-score   support\n",
       "Clear             0.690   0.672     0.681  2033.000\n",
       "Foggy             0.961   0.980     0.970  1405.000\n",
       "Overcast          0.799   0.805     0.802  3293.000\n",
       "accuracy          0.801   0.801     0.801     0.801\n",
       "macro avg         0.817   0.819     0.818  6731.000\n",
       "weighted avg      0.800   0.801     0.801  6731.000"
      ]
     },
     "metadata": {},
     "output_type": "display_data"
    },
    {
     "data": {
      "image/png": "[encoded data removed]",
      "text/plain": [
       "<Figure size 500x400 with 1 Axes>"
      ]
     },
     "metadata": {},
     "output_type": "display_data"
    },
    {
     "data": {
      "text/markdown": [
       "### Accuracy on Test Set: `0.8014`"
      ],
      "text/plain": [
       "<IPython.core.display.Markdown object>"
      ]
     },
     "metadata": {},
     "output_type": "display_data"
    }
   ],
   "source": [
    "# import logistic regression\n",
    "from sklearn.linear_model import LogisticRegression\n",
    "\n",
    "skf = StratifiedKFold(n_splits=5, shuffle=True, random_state=42)\n",
    "\n",
    "# Define parameter grid for tuning\n",
    "param_grid = {\n",
    "    'C': [0.1, 1, 10, 100, 1000]\n",
    "}\n",
    "\n",
    "grid = GridSearchCV(\n",
    "    LogisticRegression(random_state=42, max_iter=1000, multi_class='ovr'),\n",
    "    param_grid,\n",
    "    cv=skf,\n",
    "    scoring='accuracy',\n",
    "    n_jobs=-1\n",
    ")\n",
    "\n",
    "grid.fit(X_train, y_train)\n",
    "\n",
    "# Display results\n",
    "display_grid_search_results(grid, X_test, y_test, label_names)\n"
   ]
  },
  {
   "cell_type": "markdown",
   "id": "93ac7357",
   "metadata": {},
   "source": [
    "# Neural Network"
   ]
  },
  {
   "cell_type": "code",
   "execution_count": 630,
   "id": "1717e07d",
   "metadata": {},
   "outputs": [],
   "source": [
    "standard_scaler = StandardScaler()\n",
    "columns_to_standardize = [\"Temperature (C)\", \"Wind Speed (km/h)\", \"Pressure (millibars)\", \"Humidity\", \"Visibility (km)\", \"Wind Bearing (degrees)\", \"Day\", \"Month\"]\n",
    "X[columns_to_standardize] = standard_scaler.fit_transform(X[columns_to_standardize])"
   ]
  },
  {
   "cell_type": "code",
   "execution_count": 631,
   "id": "9970e867",
   "metadata": {},
   "outputs": [],
   "source": [
    "X_train, X_test, y_train, y_test = train_test_split(X, y, test_size=0.2, random_state=42)"
   ]
  },
  {
   "cell_type": "code",
   "execution_count": 643,
   "id": "c8da0127",
   "metadata": {},
   "outputs": [
    {
     "data": {
      "text/plain": [
       "11"
      ]
     },
     "execution_count": 643,
     "metadata": {},
     "output_type": "execute_result"
    }
   ],
   "source": [
    "len(X.iloc[0])"
   ]
  },
  {
   "cell_type": "code",
   "execution_count": 649,
   "id": "96e3eaa8",
   "metadata": {},
   "outputs": [
    {
     "name": "stdout",
     "output_type": "stream",
     "text": [
      "Epoch 1/100\n"
     ]
    },
    {
     "name": "stderr",
     "output_type": "stream",
     "text": [
      "c:\\Users\\PMLS\\anaconda3\\Lib\\site-packages\\keras\\src\\layers\\core\\dense.py:87: UserWarning: Do not pass an `input_shape`/`input_dim` argument to a layer. When using Sequential models, prefer using an `Input(shape)` object as the first layer in the model instead.\n",
      "  super().__init__(activity_regularizer=activity_regularizer, **kwargs)\n"
     ]
    },
    {
     "name": "stdout",
     "output_type": "stream",
     "text": [
      "\u001b[1m68/68\u001b[0m \u001b[32m━━━━━━━━━━━━━━━━━━━━\u001b[0m\u001b[37m\u001b[0m \u001b[1m2s\u001b[0m 3ms/step - accuracy: 0.5246 - loss: 0.9546\n",
      "Epoch 2/100\n",
      "\u001b[1m68/68\u001b[0m \u001b[32m━━━━━━━━━━━━━━━━━━━━\u001b[0m\u001b[37m\u001b[0m \u001b[1m0s\u001b[0m 3ms/step - accuracy: 0.7799 - loss: 0.5081\n",
      "Epoch 3/100\n",
      "\u001b[1m68/68\u001b[0m \u001b[32m━━━━━━━━━━━━━━━━━━━━\u001b[0m\u001b[37m\u001b[0m \u001b[1m0s\u001b[0m 4ms/step - accuracy: 0.8089 - loss: 0.4336\n",
      "Epoch 4/100\n",
      "\u001b[1m68/68\u001b[0m \u001b[32m━━━━━━━━━━━━━━━━━━━━\u001b[0m\u001b[37m\u001b[0m \u001b[1m0s\u001b[0m 2ms/step - accuracy: 0.8266 - loss: 0.3969\n",
      "Epoch 5/100\n",
      "\u001b[1m68/68\u001b[0m \u001b[32m━━━━━━━━━━━━━━━━━━━━\u001b[0m\u001b[37m\u001b[0m \u001b[1m0s\u001b[0m 3ms/step - accuracy: 0.8322 - loss: 0.3837\n",
      "Epoch 6/100\n",
      "\u001b[1m68/68\u001b[0m \u001b[32m━━━━━━━━━━━━━━━━━━━━\u001b[0m\u001b[37m\u001b[0m \u001b[1m0s\u001b[0m 2ms/step - accuracy: 0.8403 - loss: 0.3657\n",
      "Epoch 7/100\n",
      "\u001b[1m68/68\u001b[0m \u001b[32m━━━━━━━━━━━━━━━━━━━━\u001b[0m\u001b[37m\u001b[0m \u001b[1m0s\u001b[0m 2ms/step - accuracy: 0.8439 - loss: 0.3608\n",
      "Epoch 8/100\n",
      "\u001b[1m68/68\u001b[0m \u001b[32m━━━━━━━━━━━━━━━━━━━━\u001b[0m\u001b[37m\u001b[0m \u001b[1m0s\u001b[0m 2ms/step - accuracy: 0.8472 - loss: 0.3491\n",
      "Epoch 9/100\n",
      "\u001b[1m68/68\u001b[0m \u001b[32m━━━━━━━━━━━━━━━━━━━━\u001b[0m\u001b[37m\u001b[0m \u001b[1m0s\u001b[0m 2ms/step - accuracy: 0.8502 - loss: 0.3432\n",
      "Epoch 10/100\n",
      "\u001b[1m68/68\u001b[0m \u001b[32m━━━━━━━━━━━━━━━━━━━━\u001b[0m\u001b[37m\u001b[0m \u001b[1m0s\u001b[0m 3ms/step - accuracy: 0.8583 - loss: 0.3276\n",
      "Epoch 11/100\n",
      "\u001b[1m68/68\u001b[0m \u001b[32m━━━━━━━━━━━━━━━━━━━━\u001b[0m\u001b[37m\u001b[0m \u001b[1m0s\u001b[0m 3ms/step - accuracy: 0.8603 - loss: 0.3283\n",
      "Epoch 12/100\n",
      "\u001b[1m68/68\u001b[0m \u001b[32m━━━━━━━━━━━━━━━━━━━━\u001b[0m\u001b[37m\u001b[0m \u001b[1m0s\u001b[0m 3ms/step - accuracy: 0.8627 - loss: 0.3211\n",
      "Epoch 13/100\n",
      "\u001b[1m68/68\u001b[0m \u001b[32m━━━━━━━━━━━━━━━━━━━━\u001b[0m\u001b[37m\u001b[0m \u001b[1m0s\u001b[0m 3ms/step - accuracy: 0.8647 - loss: 0.3160\n",
      "Epoch 14/100\n",
      "\u001b[1m68/68\u001b[0m \u001b[32m━━━━━━━━━━━━━━━━━━━━\u001b[0m\u001b[37m\u001b[0m \u001b[1m0s\u001b[0m 2ms/step - accuracy: 0.8668 - loss: 0.3133\n",
      "Epoch 15/100\n",
      "\u001b[1m68/68\u001b[0m \u001b[32m━━━━━━━━━━━━━━━━━━━━\u001b[0m\u001b[37m\u001b[0m \u001b[1m0s\u001b[0m 2ms/step - accuracy: 0.8660 - loss: 0.3110\n",
      "Epoch 16/100\n",
      "\u001b[1m68/68\u001b[0m \u001b[32m━━━━━━━━━━━━━━━━━━━━\u001b[0m\u001b[37m\u001b[0m \u001b[1m0s\u001b[0m 3ms/step - accuracy: 0.8708 - loss: 0.3037\n",
      "Epoch 17/100\n",
      "\u001b[1m68/68\u001b[0m \u001b[32m━━━━━━━━━━━━━━━━━━━━\u001b[0m\u001b[37m\u001b[0m \u001b[1m0s\u001b[0m 3ms/step - accuracy: 0.8726 - loss: 0.3005\n",
      "Epoch 18/100\n",
      "\u001b[1m68/68\u001b[0m \u001b[32m━━━━━━━━━━━━━━━━━━━━\u001b[0m\u001b[37m\u001b[0m \u001b[1m0s\u001b[0m 3ms/step - accuracy: 0.8759 - loss: 0.2980\n",
      "Epoch 19/100\n",
      "\u001b[1m68/68\u001b[0m \u001b[32m━━━━━━━━━━━━━━━━━━━━\u001b[0m\u001b[37m\u001b[0m \u001b[1m0s\u001b[0m 3ms/step - accuracy: 0.8730 - loss: 0.3010\n",
      "Epoch 20/100\n",
      "\u001b[1m68/68\u001b[0m \u001b[32m━━━━━━━━━━━━━━━━━━━━\u001b[0m\u001b[37m\u001b[0m \u001b[1m0s\u001b[0m 3ms/step - accuracy: 0.8730 - loss: 0.2954\n",
      "Epoch 21/100\n",
      "\u001b[1m68/68\u001b[0m \u001b[32m━━━━━━━━━━━━━━━━━━━━\u001b[0m\u001b[37m\u001b[0m \u001b[1m0s\u001b[0m 3ms/step - accuracy: 0.8732 - loss: 0.2933\n",
      "Epoch 22/100\n",
      "\u001b[1m68/68\u001b[0m \u001b[32m━━━━━━━━━━━━━━━━━━━━\u001b[0m\u001b[37m\u001b[0m \u001b[1m0s\u001b[0m 3ms/step - accuracy: 0.8770 - loss: 0.2859\n",
      "Epoch 23/100\n",
      "\u001b[1m68/68\u001b[0m \u001b[32m━━━━━━━━━━━━━━━━━━━━\u001b[0m\u001b[37m\u001b[0m \u001b[1m0s\u001b[0m 2ms/step - accuracy: 0.8787 - loss: 0.2852\n",
      "Epoch 24/100\n",
      "\u001b[1m68/68\u001b[0m \u001b[32m━━━━━━━━━━━━━━━━━━━━\u001b[0m\u001b[37m\u001b[0m \u001b[1m0s\u001b[0m 2ms/step - accuracy: 0.8817 - loss: 0.2824\n",
      "Epoch 25/100\n",
      "\u001b[1m68/68\u001b[0m \u001b[32m━━━━━━━━━━━━━━━━━━━━\u001b[0m\u001b[37m\u001b[0m \u001b[1m0s\u001b[0m 3ms/step - accuracy: 0.8790 - loss: 0.2850\n",
      "Epoch 26/100\n",
      "\u001b[1m68/68\u001b[0m \u001b[32m━━━━━━━━━━━━━━━━━━━━\u001b[0m\u001b[37m\u001b[0m \u001b[1m0s\u001b[0m 3ms/step - accuracy: 0.8802 - loss: 0.2824\n",
      "Epoch 27/100\n",
      "\u001b[1m68/68\u001b[0m \u001b[32m━━━━━━━━━━━━━━━━━━━━\u001b[0m\u001b[37m\u001b[0m \u001b[1m0s\u001b[0m 3ms/step - accuracy: 0.8839 - loss: 0.2714\n",
      "Epoch 28/100\n",
      "\u001b[1m68/68\u001b[0m \u001b[32m━━━━━━━━━━━━━━━━━━━━\u001b[0m\u001b[37m\u001b[0m \u001b[1m0s\u001b[0m 3ms/step - accuracy: 0.8790 - loss: 0.2829\n",
      "Epoch 29/100\n",
      "\u001b[1m68/68\u001b[0m \u001b[32m━━━━━━━━━━━━━━━━━━━━\u001b[0m\u001b[37m\u001b[0m \u001b[1m0s\u001b[0m 3ms/step - accuracy: 0.8796 - loss: 0.2795\n",
      "Epoch 30/100\n",
      "\u001b[1m68/68\u001b[0m \u001b[32m━━━━━━━━━━━━━━━━━━━━\u001b[0m\u001b[37m\u001b[0m \u001b[1m0s\u001b[0m 2ms/step - accuracy: 0.8850 - loss: 0.2729\n",
      "Epoch 31/100\n",
      "\u001b[1m68/68\u001b[0m \u001b[32m━━━━━━━━━━━━━━━━━━━━\u001b[0m\u001b[37m\u001b[0m \u001b[1m0s\u001b[0m 2ms/step - accuracy: 0.8827 - loss: 0.2739\n",
      "Epoch 32/100\n",
      "\u001b[1m68/68\u001b[0m \u001b[32m━━━━━━━━━━━━━━━━━━━━\u001b[0m\u001b[37m\u001b[0m \u001b[1m0s\u001b[0m 3ms/step - accuracy: 0.8859 - loss: 0.2736\n",
      "Epoch 33/100\n",
      "\u001b[1m68/68\u001b[0m \u001b[32m━━━━━━━━━━━━━━━━━━━━\u001b[0m\u001b[37m\u001b[0m \u001b[1m0s\u001b[0m 2ms/step - accuracy: 0.8848 - loss: 0.2755\n",
      "Epoch 34/100\n",
      "\u001b[1m68/68\u001b[0m \u001b[32m━━━━━━━━━━━━━━━━━━━━\u001b[0m\u001b[37m\u001b[0m \u001b[1m0s\u001b[0m 3ms/step - accuracy: 0.8849 - loss: 0.2706\n",
      "Epoch 35/100\n",
      "\u001b[1m68/68\u001b[0m \u001b[32m━━━━━━━━━━━━━━━━━━━━\u001b[0m\u001b[37m\u001b[0m \u001b[1m0s\u001b[0m 3ms/step - accuracy: 0.8865 - loss: 0.2715\n",
      "Epoch 36/100\n",
      "\u001b[1m68/68\u001b[0m \u001b[32m━━━━━━━━━━━━━━━━━━━━\u001b[0m\u001b[37m\u001b[0m \u001b[1m0s\u001b[0m 3ms/step - accuracy: 0.8855 - loss: 0.2704\n",
      "Epoch 37/100\n",
      "\u001b[1m68/68\u001b[0m \u001b[32m━━━━━━━━━━━━━━━━━━━━\u001b[0m\u001b[37m\u001b[0m \u001b[1m0s\u001b[0m 3ms/step - accuracy: 0.8872 - loss: 0.2673\n",
      "Epoch 38/100\n",
      "\u001b[1m68/68\u001b[0m \u001b[32m━━━━━━━━━━━━━━━━━━━━\u001b[0m\u001b[37m\u001b[0m \u001b[1m0s\u001b[0m 3ms/step - accuracy: 0.8850 - loss: 0.2689\n",
      "Epoch 39/100\n",
      "\u001b[1m68/68\u001b[0m \u001b[32m━━━━━━━━━━━━━━━━━━━━\u001b[0m\u001b[37m\u001b[0m \u001b[1m0s\u001b[0m 3ms/step - accuracy: 0.8871 - loss: 0.2678\n",
      "Epoch 40/100\n",
      "\u001b[1m68/68\u001b[0m \u001b[32m━━━━━━━━━━━━━━━━━━━━\u001b[0m\u001b[37m\u001b[0m \u001b[1m0s\u001b[0m 2ms/step - accuracy: 0.8879 - loss: 0.2636\n",
      "Epoch 41/100\n",
      "\u001b[1m68/68\u001b[0m \u001b[32m━━━━━━━━━━━━━━━━━━━━\u001b[0m\u001b[37m\u001b[0m \u001b[1m0s\u001b[0m 2ms/step - accuracy: 0.8850 - loss: 0.2706\n",
      "Epoch 42/100\n",
      "\u001b[1m68/68\u001b[0m \u001b[32m━━━━━━━━━━━━━━━━━━━━\u001b[0m\u001b[37m\u001b[0m \u001b[1m0s\u001b[0m 2ms/step - accuracy: 0.8889 - loss: 0.2628\n",
      "Epoch 43/100\n",
      "\u001b[1m68/68\u001b[0m \u001b[32m━━━━━━━━━━━━━━━━━━━━\u001b[0m\u001b[37m\u001b[0m \u001b[1m0s\u001b[0m 3ms/step - accuracy: 0.8894 - loss: 0.2627\n",
      "Epoch 44/100\n",
      "\u001b[1m68/68\u001b[0m \u001b[32m━━━━━━━━━━━━━━━━━━━━\u001b[0m\u001b[37m\u001b[0m \u001b[1m0s\u001b[0m 3ms/step - accuracy: 0.8899 - loss: 0.2601\n",
      "Epoch 45/100\n",
      "\u001b[1m68/68\u001b[0m \u001b[32m━━━━━━━━━━━━━━━━━━━━\u001b[0m\u001b[37m\u001b[0m \u001b[1m0s\u001b[0m 2ms/step - accuracy: 0.8918 - loss: 0.2561\n",
      "Epoch 46/100\n",
      "\u001b[1m68/68\u001b[0m \u001b[32m━━━━━━━━━━━━━━━━━━━━\u001b[0m\u001b[37m\u001b[0m \u001b[1m0s\u001b[0m 2ms/step - accuracy: 0.8916 - loss: 0.2543\n",
      "Epoch 47/100\n",
      "\u001b[1m68/68\u001b[0m \u001b[32m━━━━━━━━━━━━━━━━━━━━\u001b[0m\u001b[37m\u001b[0m \u001b[1m0s\u001b[0m 2ms/step - accuracy: 0.8884 - loss: 0.2612\n",
      "Epoch 48/100\n",
      "\u001b[1m68/68\u001b[0m \u001b[32m━━━━━━━━━━━━━━━━━━━━\u001b[0m\u001b[37m\u001b[0m \u001b[1m0s\u001b[0m 2ms/step - accuracy: 0.8877 - loss: 0.2598\n",
      "Epoch 49/100\n",
      "\u001b[1m68/68\u001b[0m \u001b[32m━━━━━━━━━━━━━━━━━━━━\u001b[0m\u001b[37m\u001b[0m \u001b[1m0s\u001b[0m 2ms/step - accuracy: 0.8884 - loss: 0.2626\n",
      "Epoch 50/100\n",
      "\u001b[1m68/68\u001b[0m \u001b[32m━━━━━━━━━━━━━━━━━━━━\u001b[0m\u001b[37m\u001b[0m \u001b[1m0s\u001b[0m 4ms/step - accuracy: 0.8940 - loss: 0.2555\n",
      "Epoch 51/100\n",
      "\u001b[1m68/68\u001b[0m \u001b[32m━━━━━━━━━━━━━━━━━━━━\u001b[0m\u001b[37m\u001b[0m \u001b[1m0s\u001b[0m 2ms/step - accuracy: 0.8914 - loss: 0.2574\n",
      "Epoch 52/100\n",
      "\u001b[1m68/68\u001b[0m \u001b[32m━━━━━━━━━━━━━━━━━━━━\u001b[0m\u001b[37m\u001b[0m \u001b[1m0s\u001b[0m 2ms/step - accuracy: 0.8915 - loss: 0.2533\n",
      "Epoch 53/100\n",
      "\u001b[1m68/68\u001b[0m \u001b[32m━━━━━━━━━━━━━━━━━━━━\u001b[0m\u001b[37m\u001b[0m \u001b[1m0s\u001b[0m 2ms/step - accuracy: 0.8913 - loss: 0.2590\n",
      "Epoch 54/100\n",
      "\u001b[1m68/68\u001b[0m \u001b[32m━━━━━━━━━━━━━━━━━━━━\u001b[0m\u001b[37m\u001b[0m \u001b[1m0s\u001b[0m 2ms/step - accuracy: 0.8928 - loss: 0.2537\n",
      "Epoch 55/100\n",
      "\u001b[1m68/68\u001b[0m \u001b[32m━━━━━━━━━━━━━━━━━━━━\u001b[0m\u001b[37m\u001b[0m \u001b[1m0s\u001b[0m 3ms/step - accuracy: 0.8921 - loss: 0.2502\n",
      "Epoch 56/100\n",
      "\u001b[1m68/68\u001b[0m \u001b[32m━━━━━━━━━━━━━━━━━━━━\u001b[0m\u001b[37m\u001b[0m \u001b[1m0s\u001b[0m 2ms/step - accuracy: 0.8919 - loss: 0.2551\n",
      "Epoch 57/100\n",
      "\u001b[1m68/68\u001b[0m \u001b[32m━━━━━━━━━━━━━━━━━━━━\u001b[0m\u001b[37m\u001b[0m \u001b[1m0s\u001b[0m 2ms/step - accuracy: 0.8917 - loss: 0.2542\n",
      "Epoch 58/100\n",
      "\u001b[1m68/68\u001b[0m \u001b[32m━━━━━━━━━━━━━━━━━━━━\u001b[0m\u001b[37m\u001b[0m \u001b[1m0s\u001b[0m 2ms/step - accuracy: 0.8925 - loss: 0.2505\n",
      "Epoch 59/100\n",
      "\u001b[1m68/68\u001b[0m \u001b[32m━━━━━━━━━━━━━━━━━━━━\u001b[0m\u001b[37m\u001b[0m \u001b[1m0s\u001b[0m 3ms/step - accuracy: 0.8954 - loss: 0.2490\n",
      "Epoch 60/100\n",
      "\u001b[1m68/68\u001b[0m \u001b[32m━━━━━━━━━━━━━━━━━━━━\u001b[0m\u001b[37m\u001b[0m \u001b[1m0s\u001b[0m 2ms/step - accuracy: 0.8907 - loss: 0.2528\n",
      "Epoch 61/100\n",
      "\u001b[1m68/68\u001b[0m \u001b[32m━━━━━━━━━━━━━━━━━━━━\u001b[0m\u001b[37m\u001b[0m \u001b[1m0s\u001b[0m 2ms/step - accuracy: 0.8961 - loss: 0.2470\n",
      "Epoch 62/100\n",
      "\u001b[1m68/68\u001b[0m \u001b[32m━━━━━━━━━━━━━━━━━━━━\u001b[0m\u001b[37m\u001b[0m \u001b[1m0s\u001b[0m 2ms/step - accuracy: 0.8943 - loss: 0.2508\n",
      "Epoch 63/100\n",
      "\u001b[1m68/68\u001b[0m \u001b[32m━━━━━━━━━━━━━━━━━━━━\u001b[0m\u001b[37m\u001b[0m \u001b[1m0s\u001b[0m 2ms/step - accuracy: 0.8962 - loss: 0.2456\n",
      "Epoch 64/100\n",
      "\u001b[1m68/68\u001b[0m \u001b[32m━━━━━━━━━━━━━━━━━━━━\u001b[0m\u001b[37m\u001b[0m \u001b[1m0s\u001b[0m 2ms/step - accuracy: 0.8897 - loss: 0.2517\n",
      "Epoch 65/100\n",
      "\u001b[1m68/68\u001b[0m \u001b[32m━━━━━━━━━━━━━━━━━━━━\u001b[0m\u001b[37m\u001b[0m \u001b[1m0s\u001b[0m 2ms/step - accuracy: 0.8934 - loss: 0.2496\n",
      "Epoch 66/100\n",
      "\u001b[1m68/68\u001b[0m \u001b[32m━━━━━━━━━━━━━━━━━━━━\u001b[0m\u001b[37m\u001b[0m \u001b[1m0s\u001b[0m 2ms/step - accuracy: 0.8977 - loss: 0.2404\n",
      "Epoch 67/100\n",
      "\u001b[1m68/68\u001b[0m \u001b[32m━━━━━━━━━━━━━━━━━━━━\u001b[0m\u001b[37m\u001b[0m \u001b[1m0s\u001b[0m 2ms/step - accuracy: 0.8969 - loss: 0.2436\n",
      "Epoch 68/100\n",
      "\u001b[1m68/68\u001b[0m \u001b[32m━━━━━━━━━━━━━━━━━━━━\u001b[0m\u001b[37m\u001b[0m \u001b[1m0s\u001b[0m 2ms/step - accuracy: 0.8948 - loss: 0.2435\n",
      "Epoch 69/100\n",
      "\u001b[1m68/68\u001b[0m \u001b[32m━━━━━━━━━━━━━━━━━━━━\u001b[0m\u001b[37m\u001b[0m \u001b[1m0s\u001b[0m 2ms/step - accuracy: 0.8933 - loss: 0.2444\n",
      "Epoch 70/100\n",
      "\u001b[1m68/68\u001b[0m \u001b[32m━━━━━━━━━━━━━━━━━━━━\u001b[0m\u001b[37m\u001b[0m \u001b[1m0s\u001b[0m 2ms/step - accuracy: 0.8962 - loss: 0.2447\n",
      "Epoch 71/100\n",
      "\u001b[1m68/68\u001b[0m \u001b[32m━━━━━━━━━━━━━━━━━━━━\u001b[0m\u001b[37m\u001b[0m \u001b[1m0s\u001b[0m 2ms/step - accuracy: 0.8961 - loss: 0.2468\n",
      "Epoch 72/100\n",
      "\u001b[1m68/68\u001b[0m \u001b[32m━━━━━━━━━━━━━━━━━━━━\u001b[0m\u001b[37m\u001b[0m \u001b[1m0s\u001b[0m 2ms/step - accuracy: 0.8961 - loss: 0.2437\n",
      "Epoch 73/100\n",
      "\u001b[1m68/68\u001b[0m \u001b[32m━━━━━━━━━━━━━━━━━━━━\u001b[0m\u001b[37m\u001b[0m \u001b[1m0s\u001b[0m 2ms/step - accuracy: 0.8990 - loss: 0.2390\n",
      "Epoch 74/100\n",
      "\u001b[1m68/68\u001b[0m \u001b[32m━━━━━━━━━━━━━━━━━━━━\u001b[0m\u001b[37m\u001b[0m \u001b[1m0s\u001b[0m 3ms/step - accuracy: 0.8973 - loss: 0.2422\n",
      "Epoch 75/100\n",
      "\u001b[1m68/68\u001b[0m \u001b[32m━━━━━━━━━━━━━━━━━━━━\u001b[0m\u001b[37m\u001b[0m \u001b[1m0s\u001b[0m 3ms/step - accuracy: 0.8964 - loss: 0.2463\n",
      "Epoch 76/100\n",
      "\u001b[1m68/68\u001b[0m \u001b[32m━━━━━━━━━━━━━━━━━━━━\u001b[0m\u001b[37m\u001b[0m \u001b[1m0s\u001b[0m 2ms/step - accuracy: 0.8966 - loss: 0.2427\n",
      "Epoch 77/100\n",
      "\u001b[1m68/68\u001b[0m \u001b[32m━━━━━━━━━━━━━━━━━━━━\u001b[0m\u001b[37m\u001b[0m \u001b[1m0s\u001b[0m 2ms/step - accuracy: 0.8965 - loss: 0.2442\n",
      "Epoch 78/100\n",
      "\u001b[1m68/68\u001b[0m \u001b[32m━━━━━━━━━━━━━━━━━━━━\u001b[0m\u001b[37m\u001b[0m \u001b[1m0s\u001b[0m 2ms/step - accuracy: 0.9000 - loss: 0.2380\n",
      "Epoch 79/100\n",
      "\u001b[1m68/68\u001b[0m \u001b[32m━━━━━━━━━━━━━━━━━━━━\u001b[0m\u001b[37m\u001b[0m \u001b[1m0s\u001b[0m 2ms/step - accuracy: 0.8959 - loss: 0.2418\n",
      "Epoch 80/100\n",
      "\u001b[1m68/68\u001b[0m \u001b[32m━━━━━━━━━━━━━━━━━━━━\u001b[0m\u001b[37m\u001b[0m \u001b[1m0s\u001b[0m 3ms/step - accuracy: 0.9008 - loss: 0.2401\n",
      "Epoch 81/100\n",
      "\u001b[1m68/68\u001b[0m \u001b[32m━━━━━━━━━━━━━━━━━━━━\u001b[0m\u001b[37m\u001b[0m \u001b[1m0s\u001b[0m 2ms/step - accuracy: 0.8984 - loss: 0.2438\n",
      "Epoch 82/100\n",
      "\u001b[1m68/68\u001b[0m \u001b[32m━━━━━━━━━━━━━━━━━━━━\u001b[0m\u001b[37m\u001b[0m \u001b[1m0s\u001b[0m 2ms/step - accuracy: 0.9013 - loss: 0.2374\n",
      "Epoch 83/100\n",
      "\u001b[1m68/68\u001b[0m \u001b[32m━━━━━━━━━━━━━━━━━━━━\u001b[0m\u001b[37m\u001b[0m \u001b[1m0s\u001b[0m 2ms/step - accuracy: 0.9024 - loss: 0.2332\n",
      "Epoch 84/100\n",
      "\u001b[1m68/68\u001b[0m \u001b[32m━━━━━━━━━━━━━━━━━━━━\u001b[0m\u001b[37m\u001b[0m \u001b[1m0s\u001b[0m 2ms/step - accuracy: 0.9029 - loss: 0.2353\n",
      "Epoch 85/100\n",
      "\u001b[1m68/68\u001b[0m \u001b[32m━━━━━━━━━━━━━━━━━━━━\u001b[0m\u001b[37m\u001b[0m \u001b[1m0s\u001b[0m 2ms/step - accuracy: 0.9006 - loss: 0.2371\n",
      "Epoch 86/100\n",
      "\u001b[1m68/68\u001b[0m \u001b[32m━━━━━━━━━━━━━━━━━━━━\u001b[0m\u001b[37m\u001b[0m \u001b[1m0s\u001b[0m 2ms/step - accuracy: 0.9048 - loss: 0.2282\n",
      "Epoch 87/100\n",
      "\u001b[1m68/68\u001b[0m \u001b[32m━━━━━━━━━━━━━━━━━━━━\u001b[0m\u001b[37m\u001b[0m \u001b[1m0s\u001b[0m 2ms/step - accuracy: 0.8987 - loss: 0.2352\n",
      "Epoch 88/100\n",
      "\u001b[1m68/68\u001b[0m \u001b[32m━━━━━━━━━━━━━━━━━━━━\u001b[0m\u001b[37m\u001b[0m \u001b[1m0s\u001b[0m 2ms/step - accuracy: 0.9025 - loss: 0.2356\n",
      "Epoch 89/100\n",
      "\u001b[1m68/68\u001b[0m \u001b[32m━━━━━━━━━━━━━━━━━━━━\u001b[0m\u001b[37m\u001b[0m \u001b[1m0s\u001b[0m 2ms/step - accuracy: 0.8989 - loss: 0.2380\n",
      "Epoch 90/100\n",
      "\u001b[1m68/68\u001b[0m \u001b[32m━━━━━━━━━━━━━━━━━━━━\u001b[0m\u001b[37m\u001b[0m \u001b[1m0s\u001b[0m 3ms/step - accuracy: 0.8995 - loss: 0.2352\n",
      "Epoch 91/100\n",
      "\u001b[1m68/68\u001b[0m \u001b[32m━━━━━━━━━━━━━━━━━━━━\u001b[0m\u001b[37m\u001b[0m \u001b[1m0s\u001b[0m 2ms/step - accuracy: 0.9016 - loss: 0.2381\n",
      "Epoch 92/100\n",
      "\u001b[1m68/68\u001b[0m \u001b[32m━━━━━━━━━━━━━━━━━━━━\u001b[0m\u001b[37m\u001b[0m \u001b[1m0s\u001b[0m 3ms/step - accuracy: 0.9056 - loss: 0.2273\n",
      "Epoch 93/100\n",
      "\u001b[1m68/68\u001b[0m \u001b[32m━━━━━━━━━━━━━━━━━━━━\u001b[0m\u001b[37m\u001b[0m \u001b[1m0s\u001b[0m 3ms/step - accuracy: 0.8973 - loss: 0.2394\n",
      "Epoch 94/100\n",
      "\u001b[1m68/68\u001b[0m \u001b[32m━━━━━━━━━━━━━━━━━━━━\u001b[0m\u001b[37m\u001b[0m \u001b[1m0s\u001b[0m 2ms/step - accuracy: 0.9026 - loss: 0.2322\n",
      "Epoch 95/100\n",
      "\u001b[1m68/68\u001b[0m \u001b[32m━━━━━━━━━━━━━━━━━━━━\u001b[0m\u001b[37m\u001b[0m \u001b[1m0s\u001b[0m 2ms/step - accuracy: 0.9025 - loss: 0.2328\n",
      "Epoch 96/100\n",
      "\u001b[1m68/68\u001b[0m \u001b[32m━━━━━━━━━━━━━━━━━━━━\u001b[0m\u001b[37m\u001b[0m \u001b[1m0s\u001b[0m 2ms/step - accuracy: 0.9014 - loss: 0.2343\n",
      "Epoch 97/100\n",
      "\u001b[1m68/68\u001b[0m \u001b[32m━━━━━━━━━━━━━━━━━━━━\u001b[0m\u001b[37m\u001b[0m \u001b[1m0s\u001b[0m 3ms/step - accuracy: 0.9052 - loss: 0.2288\n",
      "Epoch 98/100\n",
      "\u001b[1m68/68\u001b[0m \u001b[32m━━━━━━━━━━━━━━━━━━━━\u001b[0m\u001b[37m\u001b[0m \u001b[1m0s\u001b[0m 2ms/step - accuracy: 0.9067 - loss: 0.2297\n",
      "Epoch 99/100\n",
      "\u001b[1m68/68\u001b[0m \u001b[32m━━━━━━━━━━━━━━━━━━━━\u001b[0m\u001b[37m\u001b[0m \u001b[1m0s\u001b[0m 3ms/step - accuracy: 0.9057 - loss: 0.2238\n",
      "Epoch 100/100\n",
      "\u001b[1m68/68\u001b[0m \u001b[32m━━━━━━━━━━━━━━━━━━━━\u001b[0m\u001b[37m\u001b[0m \u001b[1m0s\u001b[0m 2ms/step - accuracy: 0.9027 - loss: 0.2302\n",
      "\u001b[1m842/842\u001b[0m \u001b[32m━━━━━━━━━━━━━━━━━━━━\u001b[0m\u001b[37m\u001b[0m \u001b[1m2s\u001b[0m 2ms/step - accuracy: 0.9003 - loss: 0.2292\n",
      "Train Loss: 0.2315417230129242\n",
      "Train Accuracy: 0.9014225602149963\n",
      "\u001b[1m211/211\u001b[0m \u001b[32m━━━━━━━━━━━━━━━━━━━━\u001b[0m\u001b[37m\u001b[0m \u001b[1m0s\u001b[0m 2ms/step\n",
      "Accuracy: 0.8833754271282127\n",
      "Classification Report:\n",
      "               precision    recall  f1-score   support\n",
      "\n",
      "           0       0.86      0.74      0.80      2033\n",
      "           1       0.99      0.99      0.99      1405\n",
      "           2       0.85      0.93      0.89      3293\n",
      "\n",
      "    accuracy                           0.88      6731\n",
      "   macro avg       0.90      0.88      0.89      6731\n",
      "weighted avg       0.88      0.88      0.88      6731\n",
      "\n",
      "Confusion Matrix:\n",
      " [[1499    4  530]\n",
      " [   8 1386   11]\n",
      " [ 228    4 3061]]\n"
     ]
    }
   ],
   "source": [
    "# import neural network\n",
    "from keras.models import Sequential\n",
    "from keras import layers\n",
    "\n",
    "# Define the model\n",
    "nn = Sequential()\n",
    "nn.add(layers.Dense(64, activation='relu', input_shape=(X_train.shape[1],))) \n",
    "nn.add(layers.Dense(32, activation='relu'))\n",
    "nn.add(layers.Dense(16, activation='relu'))\n",
    "nn.add(layers.Dense(3, activation='softmax'))\n",
    "# Compile the model\n",
    "nn.compile(optimizer='adam', loss='sparse_categorical_crossentropy', metrics=['accuracy'])\n",
    "# Train the model\n",
    "nn.fit(X_train, y_train, epochs=100, batch_size=400)\n",
    "# Evaluate the model\n",
    "\n",
    "train_loss, train_accuracy = nn.evaluate(X_train, y_train)\n",
    "print(\"Train Loss:\", train_loss)\n",
    "print(\"Train Accuracy:\", train_accuracy)\n",
    "\n",
    "y_pred = nn.predict(X_test)\n",
    "y_pred = np.argmax(y_pred, axis=1)\n",
    "\n",
    "# Predict and evaluate\n",
    "print(\"Accuracy:\", accuracy_score(y_test, y_pred))\n",
    "print(\"Classification Report:\\n\", classification_report(y_test, y_pred))\n",
    "print(\"Confusion Matrix:\\n\", confusion_matrix(y_test, y_pred))"
   ]
  },
  {
   "cell_type": "code",
   "execution_count": null,
   "id": "5b51fbac",
   "metadata": {},
   "outputs": [],
   "source": []
  }
 ],
 "metadata": {
  "kernelspec": {
   "display_name": "base",
   "language": "python",
   "name": "python3"
  },
  "language_info": {
   "codemirror_mode": {
    "name": "ipython",
    "version": 3
   },
   "file_extension": ".py",
   "mimetype": "text/x-python",
   "name": "python",
   "nbconvert_exporter": "python",
   "pygments_lexer": "ipython3",
   "version": "3.12.4"
  }
 },
 "nbformat": 4,
 "nbformat_minor": 5
}
